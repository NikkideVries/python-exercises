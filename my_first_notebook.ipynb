{
 "cells": [
  {
   "cell_type": "code",
   "execution_count": 3,
   "id": "031e0b70",
   "metadata": {},
   "outputs": [
    {
     "name": "stdout",
     "output_type": "stream",
     "text": [
      "hello tom\n"
     ]
    }
   ],
   "source": [
    "#Here are some python commands, return names \n",
    "\n",
    "def say_hello(name):\n",
    "    print(f'hello {name}')\n",
    "\n",
    "say_hello('Tom')"
   ]
  },
  {
   "cell_type": "code",
   "execution_count": 4,
   "id": "c4ff5644",
   "metadata": {},
   "outputs": [
    {
     "name": "stdout",
     "output_type": "stream",
     "text": [
      "hello Nikki\n"
     ]
    }
   ],
   "source": [
    "say_hello('Nikki')"
   ]
  },
  {
   "cell_type": "code",
   "execution_count": 5,
   "id": "474f1c91",
   "metadata": {},
   "outputs": [
    {
     "name": "stdout",
     "output_type": "stream",
     "text": [
      "12\n"
     ]
    }
   ],
   "source": [
    "#return values\n",
    "def sum_two_numbers (number_1, number_2):\n",
    "    return number_1 + number_2\n",
    "\n",
    "result = sum_two_numbers(4,8)\n",
    "\n",
    "print(result)"
   ]
  },
  {
   "cell_type": "code",
   "execution_count": 7,
   "id": "535d4297",
   "metadata": {},
   "outputs": [
    {
     "data": {
      "text/plain": [
       "'HelloWorld!'"
      ]
     },
     "execution_count": 7,
     "metadata": {},
     "output_type": "execute_result"
    }
   ],
   "source": [
    "#Additional functions\n",
    "greeting = 'Hello'\n",
    "greeting += ' World!' #adds world to original clause\n",
    "greeting"
   ]
  },
  {
   "cell_type": "code",
   "execution_count": 8,
   "id": "162368d0",
   "metadata": {},
   "outputs": [
    {
     "data": {
      "text/plain": [
       "2"
      ]
     },
     "execution_count": 8,
     "metadata": {},
     "output_type": "execute_result"
    }
   ],
   "source": [
    "# doing addition\n",
    "number = 1\n",
    "number += 1 # += is varaible = varaible + 1\n",
    "number"
   ]
  },
  {
   "cell_type": "code",
   "execution_count": 9,
   "id": "64589754",
   "metadata": {},
   "outputs": [
    {
     "data": {
      "text/plain": [
       "['item', 'item', 'item']"
      ]
     },
     "execution_count": 9,
     "metadata": {},
     "output_type": "execute_result"
    }
   ],
   "source": [
    "my_list = ['item']\n",
    "my_list *= 3\n",
    "my_list\n",
    "# runs the varibel times 3"
   ]
  },
  {
   "cell_type": "code",
   "execution_count": 10,
   "id": "437a5696",
   "metadata": {},
   "outputs": [
    {
     "data": {
      "text/plain": [
       "3"
      ]
     },
     "execution_count": 10,
     "metadata": {},
     "output_type": "execute_result"
    }
   ],
   "source": [
    "multiply = 1\n",
    "multiply *= 3\n",
    "multiply"
   ]
  },
  {
   "cell_type": "code",
   "execution_count": null,
   "id": "28a78be8",
   "metadata": {},
   "outputs": [],
   "source": []
  }
 ],
 "metadata": {
  "kernelspec": {
   "display_name": "Python 3 (ipykernel)",
   "language": "python",
   "name": "python3"
  },
  "language_info": {
   "codemirror_mode": {
    "name": "ipython",
    "version": 3
   },
   "file_extension": ".py",
   "mimetype": "text/x-python",
   "name": "python",
   "nbconvert_exporter": "python",
   "pygments_lexer": "ipython3",
   "version": "3.11.4"
  }
 },
 "nbformat": 4,
 "nbformat_minor": 5
}
