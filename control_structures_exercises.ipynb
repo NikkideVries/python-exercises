{
 "cells": [
  {
   "cell_type": "markdown",
   "id": "0339bfa8-8e47-4065-89b3-71ab27189c0c",
   "metadata": {},
   "source": [
    "##### 1. Conditional Basics\n",
    "a. Prompt the user for a day of the week, print out whether the day is Monday or not <br>\n",
    "b. Prompt the user for a day of the week, print out whether the day is a weekday or a weekend <br>\n",
    "c. Calculate a weekly paycheck, accounting for overtime pay. Create variables and make up values for: <br>\n",
    "- The number of hours worked in one week\n",
    "- The hourly rate <br>\n",
    "For calculating pay:\n",
    "- For working 40 hours or less, each hour is paid at the hourly rate\n",
    "- For working more than 40 hours\n",
    "    - the first 40 hours are paid at the hourly rate\n",
    "    - each hour after 40 is paid at time and a half (hourly rate * 1.5)\n"
   ]
  },
  {
   "cell_type": "code",
   "execution_count": null,
   "id": "a0d74882-aead-4e0e-838d-16489bd84d25",
   "metadata": {},
   "outputs": [],
   "source": [
    "# a.\n",
    "day_of_the_week = ''\n",
    "isinstance(day_of_the_week, str)\n",
    "\n",
    "day_of_the_week = str(input('What day of the week is it?'))\n",
    "day_of_the_week = day_of_the_week.lower() #use the string function to lowercase everything\n",
    "check_day = isinstance(day_of_the_week, str)\n",
    "\n",
    "if check_day == True:\n",
    "    if day_of_the_week == 'monday':\n",
    "        print (f\"\\nToday is Monday\")\n",
    "    else:\n",
    "        print(f'\\nToday is not Monday')\n"
   ]
  },
  {
   "cell_type": "code",
   "execution_count": null,
   "id": "255475c2-8478-4e67-9496-3115ceb6361e",
   "metadata": {},
   "outputs": [],
   "source": [
    "#b.\n",
    "isinstance(day_of_the_week, str)\n",
    "day_of_the_week = str(input('What day of the week is it?'))\n",
    "day_of_the_week = day_of_the_week.lower() #makes the input all lower\n",
    "check_day = isinstance(day_of_the_week, str)\n",
    "\n",
    "if check_day == True:\n",
    "    if day_of_the_week in ['monday','tuesday','wednesday','thursday','friday']:\n",
    "        print(f\"\\n It's time to grind those weekday's\")\n",
    "    elif day_of_the_week in ['sunday','saturday']:\n",
    "        print(f\"\\n It's the weekend! Time to sleep.\")\n",
    "    else: \n",
    "        print('\\n Check if the input is a day of the week')"
   ]
  },
  {
   "cell_type": "code",
   "execution_count": null,
   "id": "97458a08-57a1-4984-bcb0-070c1b666d67",
   "metadata": {},
   "outputs": [],
   "source": [
    "# c. \n",
    "hourly_rate = 24.50\n",
    "\n",
    "\n",
    "isinstance(number_of_hours, float)\n",
    "\n",
    "number_of_hours = float(input('How many hours did you work this week?'))\n",
    "check_hours = isinstance(number_of_hours, float)\n",
    "\n",
    "if check_hours == True:\n",
    "    if number_of_hours > 40: \n",
    "        print('This is your pay:', (number_of_hours - 40) * (hourly_rate * 1.5) + (40 * number_of_hours))\n",
    "    else:\n",
    "        print('This is your pay:', (number_of_hours * hourly_rate))\n",
    "\n",
    "        \n",
    "    \n"
   ]
  },
  {
   "cell_type": "code",
   "execution_count": null,
   "id": "9c23fc2b-0434-4eae-8aeb-d75b2e838632",
   "metadata": {},
   "outputs": [],
   "source": [
    "# Class Reveiw\n",
    "\n",
    "hours_worked = 50\n",
    "hourly_rate = 10\n",
    "\n",
    "if hours_worked <= 40:\n",
    "    pay = hours_worked * hourly_rate\n",
    "else:\n",
    "    pay_40 = (hourly_rate * 40) #rate for the first 40 hours\n",
    "    #print(pay_40) double check the math\n",
    "    ot_hours = hours_worked - 40 #calculate how many hours over 40\n",
    "    #print(ot_hours) double check the math\n",
    "    pay_ot = ot_hours * hourly_rate * 1.5 #calculate ot pay (1.5 hourly rate)\n",
    "    #print(pay_ot) double check the math\n",
    "    pay = pay_40 + pay_ot\n",
    "    #print(pay)\n",
    "\n",
    "pay #last thing in the jupyter cell will print out without a print statement \n",
    "    "
   ]
  },
  {
   "cell_type": "markdown",
   "id": "00c23c53-2c6b-43d5-8c7b-b7beb701e02e",
   "metadata": {},
   "source": [
    "##### 2. Loop Basics\n",
    "a. While <br>\n",
    "   &ensp; i.Create an integer variable i with a value of 5. Create a while loop that runs so long as i is less than or equal to 15. Each loop iteration, output the current value of i, then increment i by one."
   ]
  },
  {
   "cell_type": "code",
   "execution_count": null,
   "id": "6c39b912-17df-47ae-8891-fccb1858eaf5",
   "metadata": {},
   "outputs": [],
   "source": [
    "for i in range (5,16):\n",
    "    print(i)"
   ]
  },
  {
   "cell_type": "code",
   "execution_count": null,
   "id": "11e6147d-a8d2-48e8-9364-723c2d2e729a",
   "metadata": {},
   "outputs": [],
   "source": [
    "# another way\n",
    "i = 5\n",
    "while i <= 15:\n",
    "    print(f\"{i}\")\n",
    "    i += 1 #incriment so it doesn't go on forever"
   ]
  },
  {
   "cell_type": "markdown",
   "id": "3084bf7d-7f4d-4c5c-a70f-c6804239ad22",
   "metadata": {},
   "source": [
    "##### \n",
    "i. Create a while loop that will count by 2's starting with 0 and ending at 100. Follow each number with a new line."
   ]
  },
  {
   "cell_type": "code",
   "execution_count": null,
   "id": "52b3ebdb-c1ef-4390-8304-0e0d56745728",
   "metadata": {
    "scrolled": true
   },
   "outputs": [],
   "source": [
    "i= 0\n",
    "while i <= 100:\n",
    "    print(f\"{i}\")\n",
    "    i +=2"
   ]
  },
  {
   "cell_type": "code",
   "execution_count": null,
   "id": "e816be8c-e3e0-49a9-9068-a2a55e7f3966",
   "metadata": {
    "scrolled": true
   },
   "outputs": [],
   "source": [
    "#another way\n",
    "for i in range (0,101,2):\n",
    "    print(i)"
   ]
  },
  {
   "cell_type": "markdown",
   "id": "e21adc08-4a27-4839-9c10-1e47aa3106f6",
   "metadata": {},
   "source": [
    "##### \n",
    "ii.Create a while loop that starts at 2, and displays the number squared on each line while the number is less than 1,000,000. Output should equal:"
   ]
  },
  {
   "cell_type": "code",
   "execution_count": null,
   "id": "1ac71b49-8425-4023-b619-bed35f9e1187",
   "metadata": {},
   "outputs": [],
   "source": [
    "i = 2 \n",
    "while i <= 1_000_000: #underscores can be used to mimic commas when writing numbers \n",
    "    print(f\"{i}\")\n",
    "    # i **= 2 # ** sqaure the numbers\n",
    "    i = i * i"
   ]
  },
  {
   "cell_type": "markdown",
   "id": "0f743a73-1d3b-4cc3-aa12-ec5ccf98715b",
   "metadata": {},
   "source": [
    "##### \n",
    "iii. Write a while loop that uses print to create the output shown below."
   ]
  },
  {
   "cell_type": "code",
   "execution_count": null,
   "id": "c5250571-654f-413b-abc7-95e84b243f09",
   "metadata": {},
   "outputs": [],
   "source": [
    "i = 100\n",
    "while i > 0:\n",
    "    print(i)\n",
    "    i -= 5"
   ]
  },
  {
   "cell_type": "markdown",
   "id": "b3a9136a-8363-4ab8-b15d-562799cb4e52",
   "metadata": {},
   "source": [
    "##### B. For loops\n",
    "i. Write some code using a for loop that prompts the user for a number, then shows a multiplication table up through 10 for that number. For example, if the user enters 7, your program should output:\n"
   ]
  },
  {
   "cell_type": "code",
   "execution_count": null,
   "id": "2aa4cf9d-e412-4660-8eb2-eb9f2105f484",
   "metadata": {},
   "outputs": [],
   "source": [
    "\n",
    "given_number = int(input('What number would you like to multipy?'))\n",
    "check_number= isinstance(given_number,int)\n",
    "\n",
    "for i in range (1,11):\n",
    "    print(given_number, '*' , i , '=' , (given_number * i) )\n",
    "        "
   ]
  },
  {
   "cell_type": "markdown",
   "id": "33c4c2a3-9de3-49c8-b3df-2d83bceac8f6",
   "metadata": {},
   "source": [
    "##### \n",
    "ii. Create a for loop that uses print to create the output shown below."
   ]
  },
  {
   "cell_type": "code",
   "execution_count": null,
   "id": "6af7fe0c-1a2a-49f2-a481-3e71c97d51f7",
   "metadata": {},
   "outputs": [],
   "source": [
    "for i in range (1,10):\n",
    "    print(str(i) * i) # str(i) turns the i variable into a string and then multiplies it by i as an int."
   ]
  },
  {
   "cell_type": "markdown",
   "id": "b7b8ffaa-ef9b-4d1c-98af-857e67502051",
   "metadata": {},
   "source": [
    "##### c. Break and Continue\n",
    "i. Write a program that prompts the user for a positive integer. Next write a loop that prints out the numbers from the number the user entered down to 1.\n",
    "<br>\n",
    "\n",
    "ii. The input function can be used to prompt for input and use that input in your python code. Prompt the user to enter a positive number and write a loop that counts from 0 to that number. (Hints: note that the input function returns a string, so you'll need to convert this to a numeric type.)\n",
    "<br>\n",
    "\n",
    "iii. Prompt the user for an odd number between 1 and 50. Use a loop and a break statement to continue prompting the user if they enter invalid input. (Hint: use the isdigit method on strings to determine this). Use a loop and the continue statement to output all the odd numbers between 1 and 50, except for the number the user entered."
   ]
  },
  {
   "cell_type": "code",
   "execution_count": null,
   "id": "9692a899-df1b-48a7-b1f4-2af4d48a0262",
   "metadata": {},
   "outputs": [],
   "source": [
    "# i.\n",
    "positive_int = int(input('Give a positive integer:'))\n",
    "check_number= isinstance(positive_int, int)\n",
    "\n",
    "if num <= 0:\n",
    "    print(f'\\n That is not a positive integer')\n",
    "else:\n",
    "    for i in range (positive_int, 0, -1):\n",
    "        print (i)"
   ]
  },
  {
   "cell_type": "code",
   "execution_count": null,
   "id": "7f8c1e65-25cc-4d41-9dd9-a7e8e763ac96",
   "metadata": {},
   "outputs": [],
   "source": [
    "# class review\n",
    "numb = int(input('Enter a positive integer'))\n",
    "\n",
    "for i in range (numb, 0, -1):\n",
    "    print(i)"
   ]
  },
  {
   "cell_type": "code",
   "execution_count": null,
   "id": "f5e95ca9-46e8-4ccf-87e5-09920d3cfb71",
   "metadata": {},
   "outputs": [],
   "source": [
    "#ii. \n",
    "positive_int = int(input('Give a positive integer(number):'))\n",
    "check_number = isinstance(positive_int, int)\n",
    "\n",
    "if positive_int <= 0:\n",
    "    print(f'\\n That is not a positive integer')\n",
    "else: \n",
    "    for i in range (0, positive_int + 1, +1):\n",
    "        print(i)"
   ]
  },
  {
   "cell_type": "code",
   "execution_count": null,
   "id": "7f097d36-b024-404e-aaa2-605c0d2f6ddb",
   "metadata": {},
   "outputs": [],
   "source": [
    "# class review\n",
    "numb = int(input('Enter a positive integer'))\n",
    "\n",
    "for i in range (0, numb +1, + 1):\n",
    "    print(i)"
   ]
  },
  {
   "cell_type": "code",
   "execution_count": null,
   "id": "674c78f3-0ac1-4b76-877e-03f0118c6255",
   "metadata": {
    "scrolled": true
   },
   "outputs": [],
   "source": [
    "#iii. first method\n",
    "while True:\n",
    "    user_input = input(\"Enter an odd number between 1 and 50: \")\n",
    "    if user_input.isdigit():\n",
    "        number = int(user_input)\n",
    "        if 1 <= number <= 50 and number % 2 == 1:\n",
    "            break\n",
    "    print(\"Invalid input. Please enter a valid odd number between 1 and 50.\")\n",
    "# Output the result\n",
    "print(\"\\nNumber to skip is:\", number)\n",
    "\n",
    "for i in range(1, 51):\n",
    "    if i == number:\n",
    "        print(\"Yikes! Skipping number:\", number)\n",
    "        continue\n",
    "    if i % 2 == 1:\n",
    "        print(\"Here is an odd number:\", i)"
   ]
  },
  {
   "cell_type": "code",
   "execution_count": null,
   "id": "8c4bd28a-0764-49f2-9965-5cc0367000f0",
   "metadata": {
    "jupyter": {
     "source_hidden": true
    },
    "scrolled": true
   },
   "outputs": [],
   "source": [
    "#iii. Second Method \n",
    "def odd_number():\n",
    "    while True:\n",
    "        input_number = input('Please input number between 1 and 50:')\n",
    "        if input_number.isdigit():\n",
    "            input_number = int(input_number)\n",
    "            if 1 <= input_number <= 50 and input_number % 2 == 1:\n",
    "                break\n",
    "            else:\n",
    "                print('Invalid input. Please enter a valid odd number between 1 and 50')\n",
    "    return input_number\n",
    "\n",
    "input_number = odd_number()\n",
    "\n",
    "print(f\"Number to Skip is: {input_number}\")\n",
    "print() #prints a blank line\n",
    "\n",
    "for i in range(1, 50, 2):\n",
    "    if i == input_number:\n",
    "        print(f\"Ykies! Skipping number: {i}\")\n",
    "        continue\n",
    "    print(f\"Here is an odd number: {i}\")\n",
    "\n",
    "            \n",
    "\n"
   ]
  },
  {
   "cell_type": "code",
   "execution_count": null,
   "id": "9930ecb3-ab25-47a0-8212-68bae2c00acb",
   "metadata": {
    "jp-MarkdownHeadingCollapsed": true,
    "jupyter": {
     "source_hidden": true
    }
   },
   "outputs": [],
   "source": [
    "#iii. third method\n",
    "def get_odd_number_between_1_and_50():\n",
    "    while True:\n",
    "        user_number = input(\"Please input a number between 1 and 50: \\n\")\n",
    "\n",
    "        if user_number.isdigit():\n",
    "            user_number = int(user_number)\n",
    "\n",
    "            large_enough = user_number > 1\n",
    "            small_enough = user_number < 50\n",
    "            odd = user_number % 2 != 0\n",
    "\n",
    "            if large_enough and small_enough and odd:\n",
    "                break\n",
    "            else:\n",
    "                print(\"Your input must be less than 50 and odd and greater than: 1\\n\")\n",
    "        else:\n",
    "            print(\"Your input must be numerals.\\n\")\n",
    "\n",
    "    return user_number\n",
    "\n",
    "user_number = get_odd_number_between_1_and_50()\n",
    "\n",
    "print(f\"Number to skip is: {user_number}\")\n",
    "print() # prints an extra new line\n",
    "\n",
    "for i in range(1, 50, 2):\n",
    "    if i == user_number:\n",
    "        print(f\"Yikes! Skipping number: {i}\")\n",
    "        continue\n",
    "    print(f\"Here is an odd number: {i}\")\n"
   ]
  },
  {
   "cell_type": "code",
   "execution_count": null,
   "id": "6537852e-2ae8-441f-9470-68b33666f42b",
   "metadata": {
    "scrolled": true
   },
   "outputs": [],
   "source": [
    "#class review\n",
    "\n",
    "while True: #this will run until it see's break\n",
    "    odd_numb = input('Enter an odd number between 1 and 50')\n",
    "    \n",
    "    if odd_numb.isdigit:\n",
    "        # print(\"It is a number\")\n",
    "        odd_numb = int(odd_numb)\n",
    "        if 1 <= odd_numb <= 50 and odd_numb % 2 == 1:\n",
    "            #print('Good input')\n",
    "            break # will stop running and break out of the loop if the first clause is met.\n",
    "        else:\n",
    "            print (\"invalid input\")\n",
    "    else:\n",
    "        print (\"It is not a number\")\n",
    "\n",
    "\n",
    "#second part:\n",
    "for i in range(1,51,2): #can use the step argument in the range function\n",
    "    if i == odd_numb:\n",
    "        print(f\"Yikes! Skipping number: {i}\")\n",
    "        continue #skip everything left in the current iteration of the loop\n",
    "    print(f'Here is an odd numebr: {i}')\n"
   ]
  },
  {
   "cell_type": "markdown",
   "id": "01abb9fc-1adb-409c-87f4-13c62a194a3e",
   "metadata": {},
   "source": [
    "##### 3. Fizzbuzz\n",
    "One of the most common interview questions for entry-level programmers is the FizzBuzz test. Developed by Imran Ghory, the test is designed to test basic looping and conditional logic skills.\n",
    "- Write a program that prints the numbers from 1 to 100.\n",
    "- For multiples of three print \"Fizz\" instead of the number\n",
    "- For the multiples of five print \"Buzz\".\n",
    "- For numbers which are multiples of both three and five print \"FizzBuzz\"."
   ]
  },
  {
   "cell_type": "code",
   "execution_count": null,
   "id": "a562c101-71b9-4685-89bb-e475166fd404",
   "metadata": {
    "scrolled": true
   },
   "outputs": [],
   "source": [
    "for i in range (1,101):\n",
    "    if i % 3 == 0 and i % 5 == 0: #numbers that are multiples of both three and five\n",
    "        print(\"FizzBuzz\")\n",
    "    elif i % 3 == 0:\n",
    "        print ('Fizz')\n",
    "    elif i % 5 == 0:\n",
    "        print ('Buzz')\n",
    "    else:\n",
    "        print(i)"
   ]
  },
  {
   "cell_type": "markdown",
   "id": "7fe654a7-58e8-431b-8728-bca579bccf70",
   "metadata": {},
   "source": [
    "##### 4. Display a table of powers\n",
    "- Prompt the user to enter an integer\n",
    "- Display a table of squares and cubes from 1 to the value entered\n",
    "- Ask if the user wants to continue\n",
    "- Assume that the user will enter valid data\n",
    "- Only continue if the user agrees to"
   ]
  },
  {
   "cell_type": "code",
   "execution_count": 6,
   "id": "3944fb20-7fd0-45e3-af30-c515a5a55cdd",
   "metadata": {},
   "outputs": [
    {
     "name": "stdin",
     "output_type": "stream",
     "text": [
      "What number would you like to go up to? 4\n"
     ]
    },
    {
     "name": "stdout",
     "output_type": "stream",
     "text": [
      "\n",
      "Here is your table!\n",
      "\n",
      "number\tsquared\tcubed\n",
      "------\t-------\t------\n",
      "1 \t 1 \t 1\n",
      "2 \t 4 \t 8\n",
      "3 \t 9 \t 27\n",
      "4 \t 16 \t 64\n"
     ]
    }
   ],
   "source": [
    "def square(i):\n",
    "    return i*i\n",
    "def cube(i):\n",
    "    return i*i*i\n",
    "\n",
    "cont = 'yes'\n",
    "\n",
    "n_int = int(input(\"What number would you like to go up to?\"))\n",
    "    \n",
    "print ('\\nHere is your table!')\n",
    "\n",
    "print()\n",
    "\n",
    "print(\"number\\tsquared\\tcubed\")\n",
    "print(\"------\\t-------\\t------\")\n",
    "for i in range(1, n_int +1):\n",
    "    print(i,\"\\t\", square(i),\"\\t\",cube(i))\n",
    "        #print(f'{i}, |{i**2}, |{i***3}')"
   ]
  },
  {
   "cell_type": "code",
   "execution_count": 9,
   "id": "a7983206-4a92-4001-b8f8-92268b17445b",
   "metadata": {},
   "outputs": [
    {
     "name": "stdin",
     "output_type": "stream",
     "text": [
      "What number would you like to go up to? 5\n"
     ]
    },
    {
     "name": "stdout",
     "output_type": "stream",
     "text": [
      "\n",
      "Here is your table!\n",
      "\n",
      "number\tsquared\tcubed\n",
      "------\t-------\t------\n",
      "1 \t 1 \t 1\n",
      "2 \t 4 \t 8\n",
      "3 \t 9 \t 27\n",
      "4 \t 16 \t 64\n",
      "5 \t 25 \t 125\n"
     ]
    },
    {
     "name": "stdin",
     "output_type": "stream",
     "text": [
      "Do you want to continue? yes/no?  no\n"
     ]
    },
    {
     "name": "stdout",
     "output_type": "stream",
     "text": [
      "Okay, will stop!\n"
     ]
    }
   ],
   "source": [
    "#Review:\n",
    "def square(i):\n",
    "    return i*i\n",
    "def cube(i):\n",
    "    return i*i*i\n",
    "\n",
    "cont = 'yes'\n",
    "\n",
    "n_int = int(input(\"What number would you like to go up to?\"))\n",
    "    \n",
    "print ('\\nHere is your table!')\n",
    "\n",
    "print()\n",
    "\n",
    "print(\"number\\tsquared\\tcubed\")\n",
    "print(\"------\\t-------\\t------\")\n",
    "for i in range(1, n_int +1):\n",
    "    print(i,\"\\t\", square(i),\"\\t\",cube(i))\n",
    "        #print(f'{i}, |{i**2}, |{i***3}')\n",
    "\n",
    "while True:\n",
    "     a = input(\"Do you want to continue? yes/no? \")\n",
    "     if a==\"yes\":\n",
    "         print(\"Okay, will continue!\")\n",
    "         continue\n",
    "     elif a==\"no\":\n",
    "         print(\"Okay, will stop!\")\n",
    "         break\n",
    "     else:\n",
    "         print(\"Enter either yes/no\")"
   ]
  },
  {
   "cell_type": "markdown",
   "id": "8b6e9dc8-3bcc-4776-8038-c7afc868d5fc",
   "metadata": {},
   "source": [
    "#####  5. Convert given number grades into letter grades.\n",
    "- Prompt the user for a numerical grade from 0 to 100\n",
    "- Display the corresponding letter grade\n",
    "- Prompt the user to continue\n",
    "- Assume that the user will enter valid integers for the grades\n",
    "- The application should only continue if the user agrees to\n",
    "- Grade Ranges:\n",
    "    - A : 100 - 88\n",
    "    - B : 87 - 80\n",
    "    - C : 79 - 67\n",
    "    - D : 66 - 60\n",
    "    - F : 59 - 0\n",
    "\n"
   ]
  },
  {
   "cell_type": "code",
   "execution_count": 4,
   "id": "1cb1066d-9fd2-4ccd-a21d-b416f32a64e6",
   "metadata": {},
   "outputs": [
    {
     "name": "stdin",
     "output_type": "stream",
     "text": [
      "Give a numerical grade from 0 to 100: 60\n"
     ]
    },
    {
     "name": "stdout",
     "output_type": "stream",
     "text": [
      "D\n"
     ]
    }
   ],
   "source": [
    "grade = int(input(\"Give a numerical grade from 0 to 100:\"))\n",
    "check_grade = isinstance(grade, int)\n",
    "\n",
    "if check_grade == True:\n",
    "    if 100 >= grade >= 88:\n",
    "        print (\"A\")\n",
    "    elif 87 >= grade >= 80:\n",
    "        print(\"B\")\n",
    "    elif 79 >= grade >= 67:\n",
    "        print(\"C\")\n",
    "    elif 66 >= grade >= 60:\n",
    "        print(\"D\")\n",
    "    elif 59 >= grade >= 0:\n",
    "        print (\"F\")"
   ]
  },
  {
   "cell_type": "code",
   "execution_count": 5,
   "id": "73d30eab-c06a-4c71-9d94-af19f655d04f",
   "metadata": {},
   "outputs": [
    {
     "name": "stdin",
     "output_type": "stream",
     "text": [
      "Enter a in integer from 0 to 100:  9\n"
     ]
    },
    {
     "name": "stdout",
     "output_type": "stream",
     "text": [
      "F\n"
     ]
    },
    {
     "name": "stdin",
     "output_type": "stream",
     "text": [
      "Would you like to continue? (y/n)  n\n"
     ]
    }
   ],
   "source": [
    "# review:\n",
    "while True:\n",
    "    \n",
    "\n",
    "    num = int(input(\"Enter a in integer from 0 to 100: \"))\n",
    "\n",
    "    if num <= 59:\n",
    "        print(\"F\")\n",
    "    elif num > 59 and num <= 66:\n",
    "        print(\"D\")\n",
    "    elif num > 66 and num <= 79:\n",
    "        print(\"C\")\n",
    "    elif num > 79 and num <=87:\n",
    "        print(\"B\")\n",
    "    elif num > 87 and num <=100:\n",
    "        print(\"A\")\n",
    "    \n",
    "    user_response = input('Would you like to continue? (y/n) ')\n",
    "    if user_response.lower() != 'y':\n",
    "        break"
   ]
  },
  {
   "cell_type": "markdown",
   "id": "88c8b5be-62e1-4199-b3f7-8cc3e1895d96",
   "metadata": {},
   "source": [
    "##### 6. Create a list of dictionaries where each dictionary represents a book that you have read.\n",
    "Each dictionary in the list should have the keys title, author, and genre. Loop through the list and print out information about each book.\n",
    "\n",
    "a. Prompt the user to enter a genre, then loop through your books list and print out the titles of all the books in that genre."
   ]
  },
  {
   "cell_type": "code",
   "execution_count": null,
   "id": "000ab624-f62e-483e-b2f3-64feaafc238f",
   "metadata": {},
   "outputs": [],
   "source": [
    "fav_books = [\n",
    "    {\"Title\":\"A court of Thorns and Roses\",\"Author\": \"Sarah J. Mass\", \"Genre\": \"Fantasy\"},\n",
    "    {\"Title\":\"Shadow and Bone\", \"Author\": \"Leigh Bardugo\", \"Genre\": \"Fantasy\"},\n",
    "    {\"Title\":\"The Tale of Despereaux\",\"Author\":\"Kate DiCamillo\",\"Genre\":\"Fantasy Fiction\"},\n",
    "    {\"Title\": \"Edge of Collapse\", \"Author\":\"Kyla Stone\",\"Genre\":\"Thriller\"},\n",
    "    {\"Title\":\"The Boy From Block 66\", \"Author\":\"Limor Regev\",\"Genre\":\"Nonfiction\"}]\n",
    "\n",
    "for book in fav_books:\n",
    "    print (\"Title:\", book[\"Title\"])\n",
    "    print (\"Author:\", book[\"Author\"])\n",
    "    print (\"Genre:\", book[\"Genre\"])\n",
    "    print()\n",
    "\n",
    "user_book = input(\"Enter a genre to read\")\n",
    "\n",
    "print(\"\\nBooks in the genre '{}:'\".format(user_book))\n",
    "for book in fav_books:\n",
    "    if book[\"Genre\"].lower() == user_book.lower():\n",
    "        print (book[\"Title\"])"
   ]
  },
  {
   "cell_type": "code",
   "execution_count": null,
   "id": "2bbffe96-ecab-4588-a76a-17a94cc0345c",
   "metadata": {},
   "outputs": [],
   "source": []
  }
 ],
 "metadata": {
  "kernelspec": {
   "display_name": "Python 3 (ipykernel)",
   "language": "python",
   "name": "python3"
  },
  "language_info": {
   "codemirror_mode": {
    "name": "ipython",
    "version": 3
   },
   "file_extension": ".py",
   "mimetype": "text/x-python",
   "name": "python",
   "nbconvert_exporter": "python",
   "pygments_lexer": "ipython3",
   "version": "3.11.4"
  }
 },
 "nbformat": 4,
 "nbformat_minor": 5
}
