{
 "cells": [
  {
   "cell_type": "markdown",
   "id": "0339bfa8-8e47-4065-89b3-71ab27189c0c",
   "metadata": {},
   "source": [
    "##### 1. Conditional Basics\n",
    "a. Prompt the user for a day of the week, print out whether the day is Monday or not <br>\n",
    "b. Prompt the user for a day of the week, print out whether the day is a weekday or a weekend <br>\n",
    "c. Calculate a weekly paycheck, accounting for overtime pay. Create variables and make up values for: <br>\n",
    "- The number of hours worked in one week\n",
    "- The hourly rate <br>\n",
    "For calculating pay:\n",
    "- For working 40 hours or less, each hour is paid at the hourly rate\n",
    "- For working more than 40 hours\n",
    "    - the first 40 hours are paid at the hourly rate\n",
    "    - each hour after 40 is paid at time and a half (hourly rate * 1.5)\n"
   ]
  },
  {
   "cell_type": "code",
   "execution_count": 5,
   "id": "a0d74882-aead-4e0e-838d-16489bd84d25",
   "metadata": {},
   "outputs": [
    {
     "name": "stdin",
     "output_type": "stream",
     "text": [
      "What day of the week is it? Capitalize the first letter. Monday\n"
     ]
    },
    {
     "name": "stdout",
     "output_type": "stream",
     "text": [
      "\n",
      "Today is Monday\n"
     ]
    }
   ],
   "source": [
    "# a.\n",
    "day_of_the_week = ''\n",
    "isinstance(day_of_the_week, str)\n",
    "\n",
    "day_of_the_week = str(input('What day of the week is it? Capitalize the first letter.'))\n",
    "\n",
    "check_day = isinstance(day_of_the_week, str)\n",
    "\n",
    "if check_day == True:\n",
    "    if day_of_the_week == 'Monday':\n",
    "        print (f\"\\nToday is Monday\")\n",
    "    else:\n",
    "        print(f'\\nToday is not Monday')\n"
   ]
  },
  {
   "cell_type": "code",
   "execution_count": 6,
   "id": "255475c2-8478-4e67-9496-3115ceb6361e",
   "metadata": {},
   "outputs": [
    {
     "name": "stdin",
     "output_type": "stream",
     "text": [
      "What day of the week is it? Capitalize the first letter. Sunday\n"
     ]
    },
    {
     "name": "stdout",
     "output_type": "stream",
     "text": [
      "\n",
      " It's the weekend! Time to sleep.\n"
     ]
    }
   ],
   "source": [
    "#b.\n",
    "isinstance(day_of_the_week, str)\n",
    "day_of_the_week = str(input('What day of the week is it? Capitalize the first letter.'))\n",
    "\n",
    "check_day = isinstance(day_of_the_week, str)\n",
    "\n",
    "if check_day == True:\n",
    "    if day_of_the_week in ['Monday','Tuesday','Wednesday','Thursday','Friday']:\n",
    "        print(f\"\\n It's time to grind those weekday's\")\n",
    "    elif day_of_the_week in ['Sunday','Saturday']:\n",
    "        print(f\"\\n It's the weekend! Time to sleep.\")\n",
    "    else: \n",
    "        print('\\n Check your capitalization and spelling')"
   ]
  },
  {
   "cell_type": "code",
   "execution_count": 25,
   "id": "97458a08-57a1-4984-bcb0-070c1b666d67",
   "metadata": {},
   "outputs": [
    {
     "name": "stdin",
     "output_type": "stream",
     "text": [
      "How many hours did you work this week? 56\n"
     ]
    },
    {
     "name": "stdout",
     "output_type": "stream",
     "text": [
      "This is your pay: 2828.0\n"
     ]
    }
   ],
   "source": [
    "# c. \n",
    "hourly_rate = 24.50\n",
    "\n",
    "\n",
    "isinstance(number_of_hours, float)\n",
    "\n",
    "number_of_hours = float(input('How many hours did you work this week?'))\n",
    "check_hours = isinstance(number_of_hours, float)\n",
    "\n",
    "if check_hours == True:\n",
    "    if number_of_hours > 40: \n",
    "        print('This is your pay:', (number_of_hours - 40) * (hourly_rate * 1.5) + (40 * number_of_hours))\n",
    "    else:\n",
    "        print('This is your pay:', (number_of_hours * hourly_rate))\n",
    "\n",
    "        \n",
    "    \n"
   ]
  },
  {
   "cell_type": "markdown",
   "id": "00c23c53-2c6b-43d5-8c7b-b7beb701e02e",
   "metadata": {},
   "source": [
    "##### 2. Loop Basics\n",
    "a. While <br>\n",
    "   &ensp; i.Create an integer variable i with a value of 5. Create a while loop that runs so long as i is less than or equal to 15. Each loop iteration, output the current value of i, then increment i by one."
   ]
  },
  {
   "cell_type": "code",
   "execution_count": 1,
   "id": "6c39b912-17df-47ae-8891-fccb1858eaf5",
   "metadata": {},
   "outputs": [
    {
     "name": "stdout",
     "output_type": "stream",
     "text": [
      "5\n",
      "6\n",
      "7\n",
      "8\n",
      "9\n",
      "10\n",
      "11\n",
      "12\n",
      "13\n",
      "14\n",
      "15\n"
     ]
    }
   ],
   "source": [
    "for i in range (5,16):\n",
    "    print(i)"
   ]
  },
  {
   "cell_type": "code",
   "execution_count": 2,
   "id": "11e6147d-a8d2-48e8-9364-723c2d2e729a",
   "metadata": {},
   "outputs": [
    {
     "name": "stdout",
     "output_type": "stream",
     "text": [
      "5\n",
      "6\n",
      "7\n",
      "8\n",
      "9\n",
      "10\n",
      "11\n",
      "12\n",
      "13\n",
      "14\n",
      "15\n"
     ]
    }
   ],
   "source": [
    "# another way\n",
    "i = 5\n",
    "while i <= 15:\n",
    "    print(f\"{i}\")\n",
    "    i += 1"
   ]
  },
  {
   "cell_type": "markdown",
   "id": "3084bf7d-7f4d-4c5c-a70f-c6804239ad22",
   "metadata": {},
   "source": [
    "##### \n",
    "i. Create a while loop that will count by 2's starting with 0 and ending at 100. Follow each number with a new line."
   ]
  },
  {
   "cell_type": "code",
   "execution_count": 27,
   "id": "52b3ebdb-c1ef-4390-8304-0e0d56745728",
   "metadata": {
    "scrolled": true
   },
   "outputs": [
    {
     "name": "stdout",
     "output_type": "stream",
     "text": [
      "0\n",
      "2\n",
      "4\n",
      "6\n",
      "8\n",
      "10\n",
      "12\n",
      "14\n",
      "16\n",
      "18\n",
      "20\n",
      "22\n",
      "24\n",
      "26\n",
      "28\n",
      "30\n",
      "32\n",
      "34\n",
      "36\n",
      "38\n",
      "40\n",
      "42\n",
      "44\n",
      "46\n",
      "48\n",
      "50\n",
      "52\n",
      "54\n",
      "56\n",
      "58\n",
      "60\n",
      "62\n",
      "64\n",
      "66\n",
      "68\n",
      "70\n",
      "72\n",
      "74\n",
      "76\n",
      "78\n",
      "80\n",
      "82\n",
      "84\n",
      "86\n",
      "88\n",
      "90\n",
      "92\n",
      "94\n",
      "96\n",
      "98\n",
      "100\n"
     ]
    }
   ],
   "source": [
    "i= 0\n",
    "while i <= 100:\n",
    "    print(f\"{i}\")\n",
    "    i +=2"
   ]
  },
  {
   "cell_type": "code",
   "execution_count": 29,
   "id": "e816be8c-e3e0-49a9-9068-a2a55e7f3966",
   "metadata": {
    "scrolled": true
   },
   "outputs": [
    {
     "name": "stdout",
     "output_type": "stream",
     "text": [
      "0\n",
      "2\n",
      "4\n",
      "6\n",
      "8\n",
      "10\n",
      "12\n",
      "14\n",
      "16\n",
      "18\n",
      "20\n",
      "22\n",
      "24\n",
      "26\n",
      "28\n",
      "30\n",
      "32\n",
      "34\n",
      "36\n",
      "38\n",
      "40\n",
      "42\n",
      "44\n",
      "46\n",
      "48\n",
      "50\n",
      "52\n",
      "54\n",
      "56\n",
      "58\n",
      "60\n",
      "62\n",
      "64\n",
      "66\n",
      "68\n",
      "70\n",
      "72\n",
      "74\n",
      "76\n",
      "78\n",
      "80\n",
      "82\n",
      "84\n",
      "86\n",
      "88\n",
      "90\n",
      "92\n",
      "94\n",
      "96\n",
      "98\n",
      "100\n"
     ]
    }
   ],
   "source": [
    "#another way\n",
    "for i in range (0,101,2):\n",
    "    print(i)"
   ]
  },
  {
   "cell_type": "markdown",
   "id": "e21adc08-4a27-4839-9c10-1e47aa3106f6",
   "metadata": {},
   "source": [
    "##### \n",
    "ii.Create a while loop that starts at 2, and displays the number squared on each line while the number is less than 1,000,000. Output should equal:"
   ]
  },
  {
   "cell_type": "code",
   "execution_count": 34,
   "id": "1ac71b49-8425-4023-b619-bed35f9e1187",
   "metadata": {},
   "outputs": [
    {
     "name": "stdout",
     "output_type": "stream",
     "text": [
      "2\n",
      "4\n",
      "16\n",
      "256\n",
      "65536\n"
     ]
    }
   ],
   "source": [
    "i = 2 \n",
    "while i <= 1000000:\n",
    "    print(f\"{i}\")\n",
    "    i **= 2 # ** sqaure the numbers"
   ]
  },
  {
   "cell_type": "markdown",
   "id": "0f743a73-1d3b-4cc3-aa12-ec5ccf98715b",
   "metadata": {},
   "source": [
    "##### \n",
    "iii. Write a while loop that uses print to create the output shown below."
   ]
  },
  {
   "cell_type": "code",
   "execution_count": 35,
   "id": "c5250571-654f-413b-abc7-95e84b243f09",
   "metadata": {},
   "outputs": [
    {
     "name": "stdout",
     "output_type": "stream",
     "text": [
      "100\n",
      "95\n",
      "90\n",
      "85\n",
      "80\n",
      "75\n",
      "70\n",
      "65\n",
      "60\n",
      "55\n",
      "50\n",
      "45\n",
      "40\n",
      "35\n",
      "30\n",
      "25\n",
      "20\n",
      "15\n",
      "10\n",
      "5\n"
     ]
    }
   ],
   "source": [
    "i = 100\n",
    "while i > 0:\n",
    "    print(f\"{i}\")\n",
    "    i -= 5"
   ]
  },
  {
   "cell_type": "markdown",
   "id": "b3a9136a-8363-4ab8-b15d-562799cb4e52",
   "metadata": {},
   "source": [
    "##### B. For loops\n",
    "i. Write some code using a for loop that prompts the user for a number, then shows a multiplication table up through 10 for that number. For example, if the user enters 7, your program should output:\n"
   ]
  },
  {
   "cell_type": "code",
   "execution_count": 41,
   "id": "2aa4cf9d-e412-4660-8eb2-eb9f2105f484",
   "metadata": {},
   "outputs": [
    {
     "name": "stdin",
     "output_type": "stream",
     "text": [
      "What number would you like to multipy? 8\n"
     ]
    },
    {
     "name": "stdout",
     "output_type": "stream",
     "text": [
      "8 * 1 = 8\n",
      "8 * 2 = 16\n",
      "8 * 3 = 24\n",
      "8 * 4 = 32\n",
      "8 * 5 = 40\n",
      "8 * 6 = 48\n",
      "8 * 7 = 56\n",
      "8 * 8 = 64\n",
      "8 * 9 = 72\n",
      "8 * 10 = 80\n"
     ]
    }
   ],
   "source": [
    "\n",
    "given_number = int(input('What number would you like to multipy?'))\n",
    "check_number= isinstance(given_number,int)\n",
    "\n",
    "for i in range (1,11):\n",
    "    print(given_number, '*' , i , '=' , (given_number * i) )\n",
    "        "
   ]
  },
  {
   "cell_type": "markdown",
   "id": "33c4c2a3-9de3-49c8-b3df-2d83bceac8f6",
   "metadata": {},
   "source": [
    "##### \n",
    "ii. Create a for loop that uses print to create the output shown below."
   ]
  },
  {
   "cell_type": "code",
   "execution_count": 8,
   "id": "6af7fe0c-1a2a-49f2-a481-3e71c97d51f7",
   "metadata": {},
   "outputs": [
    {
     "name": "stdout",
     "output_type": "stream",
     "text": [
      "1\n",
      "22\n",
      "333\n",
      "4444\n",
      "55555\n",
      "666666\n",
      "7777777\n",
      "88888888\n",
      "999999999\n"
     ]
    }
   ],
   "source": [
    "for i in range (1,10):\n",
    "    print(str(i) * i) # str(i) turns the i variable into a string and then multiplies it by i as an int."
   ]
  },
  {
   "cell_type": "markdown",
   "id": "b7b8ffaa-ef9b-4d1c-98af-857e67502051",
   "metadata": {},
   "source": [
    "##### c. Break and Continue\n",
    "i. Write a program that prompts the user for a positive integer. Next write a loop that prints out the numbers from the number the user entered down to 1.\n",
    "<br>\n",
    "\n",
    "ii. The input function can be used to prompt for input and use that input in your python code. Prompt the user to enter a positive number and write a loop that counts from 0 to that number. (Hints: note that the input function returns a string, so you'll need to convert this to a numeric type.)\n",
    "<br>\n",
    "\n",
    "iii. Prompt the user for an odd number between 1 and 50. Use a loop and a break statement to continue prompting the user if they enter invalid input. (Hint: use the isdigit method on strings to determine this). Use a loop and the continue statement to output all the odd numbers between 1 and 50, except for the number the user entered."
   ]
  },
  {
   "cell_type": "code",
   "execution_count": 19,
   "id": "9692a899-df1b-48a7-b1f4-2af4d48a0262",
   "metadata": {},
   "outputs": [
    {
     "name": "stdin",
     "output_type": "stream",
     "text": [
      "Give a positive integer 7\n"
     ]
    },
    {
     "name": "stdout",
     "output_type": "stream",
     "text": [
      "7\n",
      "6\n",
      "5\n",
      "4\n",
      "3\n",
      "2\n",
      "1\n"
     ]
    }
   ],
   "source": [
    "# i.\n",
    "positive_int = int(input('Give a positive integer:'))\n",
    "check_number= isinstance(positive_int, int)\n",
    "\n",
    "if num <= 0:\n",
    "    print(f'\\n That is not a positive integer')\n",
    "else:\n",
    "    for i in range (positive_int, 0, -1):\n",
    "        print (i)"
   ]
  },
  {
   "cell_type": "code",
   "execution_count": null,
   "id": "f5e95ca9-46e8-4ccf-87e5-09920d3cfb71",
   "metadata": {},
   "outputs": [],
   "source": []
  }
 ],
 "metadata": {
  "kernelspec": {
   "display_name": "Python 3 (ipykernel)",
   "language": "python",
   "name": "python3"
  },
  "language_info": {
   "codemirror_mode": {
    "name": "ipython",
    "version": 3
   },
   "file_extension": ".py",
   "mimetype": "text/x-python",
   "name": "python",
   "nbconvert_exporter": "python",
   "pygments_lexer": "ipython3",
   "version": "3.11.4"
  }
 },
 "nbformat": 4,
 "nbformat_minor": 5
}
