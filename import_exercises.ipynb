{
 "cells": [
  {
   "cell_type": "markdown",
   "id": "2d147483-e80d-4fae-8da2-0b162c9944c8",
   "metadata": {},
   "source": [
    "##### Question 1:\n",
    "Import and test 3 of the functions from your functions exercise file. Import each function in a different way:\n",
    "<br>\n",
    "a. Run an interactive python session and import the module. Call the is_vowel function using the . syntax. <br>\n",
    "**hint**: module(file name).function(the specific function)(parameter)\n",
    "<br>\n",
    "b. Create a file named import_exercises.py. Within this file, use from to import the calculate_tip function directly. Call this function with values you choose and print the result.\n",
    "<br>c. Create a jupyter notebook named import_exercises.ipynb. Use from to import the get_letter_grade function and give it an alias. Test this function in your notebook."
   ]
  },
  {
   "cell_type": "markdown",
   "id": "eaf00b28-cdd4-4c03-9def-d7432524c025",
   "metadata": {
    "tags": []
   },
   "source": [
    "##### How to do part a. \n",
    "Method:\n",
    "- open terminal\n",
    "- type python\n",
    "- functions.is_vowel('a')"
   ]
  },
  {
   "cell_type": "markdown",
   "id": "337ee2fc-33ae-44ed-a7fe-b20e1ab1ce88",
   "metadata": {
    "tags": []
   },
   "source": [
    "##### How to do part b.\n",
    "Method:\n",
    "- open .py\n",
    "- from functions import calculate_tip\n",
    "- answ = calculate_tip (75, .25)\n",
    "- print(answ)"
   ]
  },
  {
   "cell_type": "code",
   "execution_count": 15,
   "id": "12ecc365-40ae-491b-8798-10740ca5f347",
   "metadata": {
    "tags": []
   },
   "outputs": [],
   "source": [
    "# question c"
   ]
  },
  {
   "cell_type": "code",
   "execution_count": 2,
   "id": "c62cda04-8a72-4ab4-93dd-0e8582c28025",
   "metadata": {
    "tags": []
   },
   "outputs": [],
   "source": [
    "from functions import get_letter_grade"
   ]
  },
  {
   "cell_type": "code",
   "execution_count": 3,
   "id": "34ec4c9b-d94c-4d21-8089-ad17390d7a9d",
   "metadata": {},
   "outputs": [
    {
     "data": {
      "text/plain": [
       "'F'"
      ]
     },
     "execution_count": 3,
     "metadata": {},
     "output_type": "execute_result"
    }
   ],
   "source": [
    "get_letter_grade(59)"
   ]
  },
  {
   "cell_type": "markdown",
   "id": "81300e45-3031-458e-bdfc-283d33351ce8",
   "metadata": {},
   "source": [
    "##### Question 2.\n",
    "Read about and use the itertools module from the python standard library to help you solve the following problems. Note: Many of these functions in this library return an object, to see the results of the function, cast this object as a list.\n",
    "- a. How many different ways can you combine a single letter from \"abc\" with either 1, 2, or 3?\n",
    "- b. How many different combinations are there of 2 letters from \"abcd\"?\n",
    "- c. How many different permutations are there of 2 letters from \"abcd\""
   ]
  },
  {
   "cell_type": "code",
   "execution_count": 24,
   "id": "0d2a6d2c-a376-4915-b5c2-891045ffb46a",
   "metadata": {
    "tags": []
   },
   "outputs": [],
   "source": [
    "# a.\n",
    "import itertools"
   ]
  },
  {
   "cell_type": "code",
   "execution_count": 23,
   "id": "b5ac978f-0a4f-4035-aa2f-8098bb7afbf8",
   "metadata": {
    "tags": []
   },
   "outputs": [
    {
     "name": "stdout",
     "output_type": "stream",
     "text": [
      "[('a', 1), ('a', 2), ('a', 3), ('b', 1), ('b', 2), ('b', 3), ('c', 1), ('c', 2), ('c', 3)]\n"
     ]
    }
   ],
   "source": [
    "letters = 'abc'\n",
    "numbers = [1, 2, 3]\n",
    "combo = list(itertools.product(letters, numbers))\n",
    "print(combo)"
   ]
  },
  {
   "cell_type": "code",
   "execution_count": null,
   "id": "77a0ac3a-debf-4223-a8dd-cdc279af7343",
   "metadata": {},
   "outputs": [],
   "source": [
    "# b."
   ]
  }
 ],
 "metadata": {
  "kernelspec": {
   "display_name": "Python 3 (ipykernel)",
   "language": "python",
   "name": "python3"
  },
  "language_info": {
   "codemirror_mode": {
    "name": "ipython",
    "version": 3
   },
   "file_extension": ".py",
   "mimetype": "text/x-python",
   "name": "python",
   "nbconvert_exporter": "python",
   "pygments_lexer": "ipython3",
   "version": "3.11.4"
  }
 },
 "nbformat": 4,
 "nbformat_minor": 5
}
