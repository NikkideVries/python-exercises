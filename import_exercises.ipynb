{
 "cells": [
  {
   "cell_type": "markdown",
   "id": "2d147483-e80d-4fae-8da2-0b162c9944c8",
   "metadata": {},
   "source": [
    "##### Question 1:\n",
    "Import and test 3 of the functions from your functions exercise file. Import each function in a different way:\n",
    "<br>\n",
    "a. Run an interactive python session and import the module. Call the is_vowel function using the . syntax. <br>\n",
    "**hint**: module(file name).function(the specific function)(parameter)\n",
    "<br>\n",
    "b. Create a file named import_exercises.py. Within this file, use from to import the calculate_tip function directly. Call this function with values you choose and print the result.\n",
    "<br>c. Create a jupyter notebook named import_exercises.ipynb. Use from to import the get_letter_grade function and give it an alias. Test this function in your notebook."
   ]
  },
  {
   "cell_type": "markdown",
   "id": "eaf00b28-cdd4-4c03-9def-d7432524c025",
   "metadata": {
    "tags": []
   },
   "source": [
    "##### How to do part a. \n",
    "Method:\n",
    "- open terminal\n",
    "- type python\n",
    "- import functions\n",
    "- functions.is_vowel('a')"
   ]
  },
  {
   "cell_type": "markdown",
   "id": "337ee2fc-33ae-44ed-a7fe-b20e1ab1ce88",
   "metadata": {
    "tags": []
   },
   "source": [
    "##### How to do part b.\n",
    "Method:\n",
    "- open .py in visual code studio\n",
    "- from functions import calculate_tip\n",
    "- answ = calculate_tip (75, .25)\n",
    "- print(answ)"
   ]
  },
  {
   "cell_type": "code",
   "execution_count": 15,
   "id": "12ecc365-40ae-491b-8798-10740ca5f347",
   "metadata": {
    "tags": []
   },
   "outputs": [],
   "source": [
    "# question c"
   ]
  },
  {
   "cell_type": "code",
   "execution_count": 2,
   "id": "c62cda04-8a72-4ab4-93dd-0e8582c28025",
   "metadata": {
    "tags": []
   },
   "outputs": [],
   "source": [
    "from functions import get_letter_grade"
   ]
  },
  {
   "cell_type": "code",
   "execution_count": 3,
   "id": "34ec4c9b-d94c-4d21-8089-ad17390d7a9d",
   "metadata": {},
   "outputs": [
    {
     "data": {
      "text/plain": [
       "'F'"
      ]
     },
     "execution_count": 3,
     "metadata": {},
     "output_type": "execute_result"
    }
   ],
   "source": [
    "get_letter_grade(59)"
   ]
  },
  {
   "cell_type": "markdown",
   "id": "81300e45-3031-458e-bdfc-283d33351ce8",
   "metadata": {},
   "source": [
    "##### Question 2.\n",
    "Read about and use the itertools module from the python standard library to help you solve the following problems. Note: Many of these functions in this library return an object, to see the results of the function, cast this object as a list.\n",
    "- a. How many different ways can you combine a single letter from \"abc\" with either 1, 2, or 3?\n",
    "- b. How many different combinations are there of 2 letters from \"abcd\"?\n",
    "- c. How many different permutations are there of 2 letters from \"abcd\""
   ]
  },
  {
   "cell_type": "code",
   "execution_count": 8,
   "id": "0d2a6d2c-a376-4915-b5c2-891045ffb46a",
   "metadata": {
    "tags": []
   },
   "outputs": [],
   "source": [
    "import itertools\n",
    "#because you are importing the who database need to use module.function to find function."
   ]
  },
  {
   "cell_type": "code",
   "execution_count": 12,
   "id": "b5ac978f-0a4f-4035-aa2f-8098bb7afbf8",
   "metadata": {
    "tags": []
   },
   "outputs": [
    {
     "data": {
      "text/plain": [
       "9"
      ]
     },
     "execution_count": 12,
     "metadata": {},
     "output_type": "execute_result"
    }
   ],
   "source": [
    "# a. cartesian product: set of ordered pairs\n",
    "letters = 'abc'\n",
    "numbers = [1, 2, 3]\n",
    "list(itertools.product(letters, numbers))\n",
    "len(list(itertools.product(letters, numbers)))"
   ]
  },
  {
   "cell_type": "code",
   "execution_count": 13,
   "id": "77a0ac3a-debf-4223-a8dd-cdc279af7343",
   "metadata": {},
   "outputs": [
    {
     "data": {
      "text/plain": [
       "6"
      ]
     },
     "execution_count": 13,
     "metadata": {},
     "output_type": "execute_result"
    }
   ],
   "source": [
    "# b. in sorted order, no repeated elements\n",
    "letters = \"abcd\"\n",
    "list(itertools.combinations(letters, 2))\n",
    "len(list(itertools.combinations(letters, 2)))"
   ]
  },
  {
   "cell_type": "code",
   "execution_count": 14,
   "id": "c6c31fe8-aaa5-4398-a60d-6472c1df4712",
   "metadata": {
    "tags": []
   },
   "outputs": [
    {
     "data": {
      "text/plain": [
       "12"
      ]
     },
     "execution_count": 14,
     "metadata": {},
     "output_type": "execute_result"
    }
   ],
   "source": [
    "# c. permutations: all possible orderings\n",
    "letters = \"abcd\"\n",
    "list(itertools.permutations(letters,2))\n",
    "len(list(itertools.permutations(letters,2)))"
   ]
  },
  {
   "cell_type": "markdown",
   "id": "1e02e990-9fbe-470c-b1da-b5ba96406941",
   "metadata": {},
   "source": [
    " ##### Question 3:\n",
    "Save this file as profiles.json inside of your exercises directory (right click -> save file as...).\n",
    "<br>\n",
    "Use the load function from the json module to open this file.\n",
    "\n",
    "\n"
   ]
  },
  {
   "cell_type": "code",
   "execution_count": 15,
   "id": "3fff14ab-ba30-4fdf-9b09-08d817ab9bdf",
   "metadata": {
    "collapsed": true,
    "jupyter": {
     "outputs_hidden": true
    },
    "tags": []
   },
   "outputs": [
    {
     "name": "stdout",
     "output_type": "stream",
     "text": [
      "[{'_id': '54e23c3e46ab53a440b580e8',\n",
      "  'about': 'Sit cillum deserunt irure laboris tempor fugiat laboris. Amet '\n",
      "           'commodo amet est incididunt. Dolore qui fugiat cillum pariatur '\n",
      "           'dolore excepteur elit ipsum.\\r\\n',\n",
      "  'address': '121 Emmons Avenue, Klondike, Kentucky, 5975',\n",
      "  'age': 39,\n",
      "  'balance': '$2,097.02',\n",
      "  'company': 'ANDRYX',\n",
      "  'email': 'hebertestes@andryx.com',\n",
      "  'eyeColor': 'blue',\n",
      "  'favoriteFruit': 'strawberry',\n",
      "  'friends': [{'id': 0, 'name': 'Tanisha Leonard'},\n",
      "              {'id': 1, 'name': 'Dennis Wilson'},\n",
      "              {'id': 2, 'name': 'Lupe Howe'}],\n",
      "  'gender': 'male',\n",
      "  'greeting': 'Hello, Hebert Estes! You have 4 unread messages.',\n",
      "  'guid': '9962b468-ef3e-4993-b677-617469bc3008',\n",
      "  'index': 0,\n",
      "  'isActive': False,\n",
      "  'latitude': -80.157843,\n",
      "  'longitude': 161.93016,\n",
      "  'name': 'Hebert Estes',\n",
      "  'phone': '+1 (866) 456-2268',\n",
      "  'picture': 'http://placehold.it/32x32',\n",
      "  'registered': '2014-11-10T01:44:03 +06:00',\n",
      "  'tags': ['sit', 'occaecat', 'non', 'ea', 'sit', 'laboris', 'exercitation']},\n",
      " {'_id': '54e23c3ef5cc0d250968c212',\n",
      "  'about': 'Esse quis cillum sunt occaecat ad et eu incididunt aliquip dolor. '\n",
      "           'Adipisicing labore magna anim cillum nisi. Elit mollit consequat '\n",
      "           'velit nulla cillum excepteur elit ullamco deserunt. Anim aliquip '\n",
      "           'Lorem excepteur ad veniam et labore in qui ullamco. Occaecat sit '\n",
      "           'do incididunt voluptate id magna ea amet.\\r\\n',\n",
      "  'address': '724 Brevoort Place, Lodoga, Indiana, 3880',\n",
      "  'age': 30,\n",
      "  'balance': '$3,654.02',\n",
      "  'company': 'PHARMACON',\n",
      "  'email': 'allisonwynn@pharmacon.com',\n",
      "  'eyeColor': 'green',\n",
      "  'favoriteFruit': 'apple',\n",
      "  'friends': [{'id': 0, 'name': 'Curry Cox'},\n",
      "              {'id': 1, 'name': 'Alma Dale'},\n",
      "              {'id': 2, 'name': 'Barbara Mayo'}],\n",
      "  'gender': 'male',\n",
      "  'greeting': 'Hello, Allison Wynn! You have 19 unread messages.',\n",
      "  'guid': '905f849d-49bf-4a57-b4f3-5d6e4bf1b04c',\n",
      "  'index': 1,\n",
      "  'isActive': False,\n",
      "  'latitude': 55.737207,\n",
      "  'longitude': -167.177561,\n",
      "  'name': 'Allison Wynn',\n",
      "  'phone': '+1 (926) 525-3131',\n",
      "  'picture': 'http://placehold.it/32x32',\n",
      "  'registered': '2014-06-10T13:41:26 +05:00',\n",
      "  'tags': ['enim',\n",
      "           'officia',\n",
      "           'laboris',\n",
      "           'irure',\n",
      "           'veniam',\n",
      "           'occaecat',\n",
      "           'pariatur']},\n",
      " {'_id': '54e23c3e09cc6875638cd36b',\n",
      "  'about': 'Deserunt adipisicing proident exercitation cillum anim consectetur '\n",
      "           'labore exercitation. Commodo reprehenderit laborum enim '\n",
      "           'exercitation. Ullamco nulla culpa aliqua nisi fugiat consectetur '\n",
      "           'deserunt nostrud in eu.\\r\\n',\n",
      "  'address': '941 Cox Place, Bluffview, Georgia, 5882',\n",
      "  'age': 31,\n",
      "  'balance': '$1,536.02',\n",
      "  'company': 'QUONK',\n",
      "  'email': 'jacobsfloyd@quonk.com',\n",
      "  'eyeColor': 'brown',\n",
      "  'favoriteFruit': 'apple',\n",
      "  'friends': [{'id': 0, 'name': 'Robles Chan'},\n",
      "              {'id': 1, 'name': 'Whitfield Strickland'},\n",
      "              {'id': 2, 'name': 'Lina Melton'}],\n",
      "  'gender': 'male',\n",
      "  'greeting': 'Hello, Jacobs Floyd! You have 5 unread messages.',\n",
      "  'guid': '1b042d48-9cfa-4db5-8b60-4104165591c3',\n",
      "  'index': 2,\n",
      "  'isActive': True,\n",
      "  'latitude': 30.215667,\n",
      "  'longitude': 68.831905,\n",
      "  'name': 'Jacobs Floyd',\n",
      "  'phone': '+1 (853) 537-3315',\n",
      "  'picture': 'http://placehold.it/32x32',\n",
      "  'registered': '2014-07-30T03:17:32 +05:00',\n",
      "  'tags': ['est', 'aute', 'laborum', 'sint', 'anim', 'sit', 'consectetur']},\n",
      " {'_id': '54e23c3e54e4094147a3b1da',\n",
      "  'about': 'Aliqua sunt exercitation quis cupidatat fugiat nulla laboris '\n",
      "           'occaecat ut reprehenderit qui incididunt. Amet excepteur qui amet '\n",
      "           'mollit sint enim velit est dolor eu. Velit labore ea aute ipsum '\n",
      "           'consequat culpa cupidatat excepteur aliqua. Sit commodo id est '\n",
      "           'deserunt commodo. Labore sit deserunt enim in dolore incididunt. '\n",
      "           'Officia qui est veniam cillum consequat minim duis Lorem esse '\n",
      "           'magna culpa cupidatat cupidatat enim. Amet eiusmod elit qui '\n",
      "           'reprehenderit commodo quis.\\r\\n',\n",
      "  'address': '518 Randolph Street, Whitestone, Arizona, 8189',\n",
      "  'age': 20,\n",
      "  'balance': '$3,919.64',\n",
      "  'company': 'INRT',\n",
      "  'email': 'fayhammond@inrt.com',\n",
      "  'eyeColor': 'green',\n",
      "  'favoriteFruit': 'banana',\n",
      "  'friends': [{'id': 0, 'name': 'Dudley Booker'},\n",
      "              {'id': 1, 'name': 'Esmeralda Tyler'},\n",
      "              {'id': 2, 'name': 'Rosa Hampton'}],\n",
      "  'gender': 'female',\n",
      "  'greeting': 'Hello, Fay Hammond! You have 10 unread messages.',\n",
      "  'guid': '69eb3454-8acc-46f1-a636-c6df00dfb542',\n",
      "  'index': 3,\n",
      "  'isActive': False,\n",
      "  'latitude': 33.825844,\n",
      "  'longitude': -65.969538,\n",
      "  'name': 'Fay Hammond',\n",
      "  'phone': '+1 (922) 429-2592',\n",
      "  'picture': 'http://placehold.it/32x32',\n",
      "  'registered': '2015-01-30T08:05:38 +06:00',\n",
      "  'tags': ['aliqua', 'esse', 'sint', 'pariatur', 'commodo', 'do', 'anim']},\n",
      " {'_id': '54e23c3e177caf5567ba87ac',\n",
      "  'about': 'Irure excepteur consequat esse qui tempor deserunt nulla fugiat. '\n",
      "           'Ut excepteur do veniam dolore dolor proident sunt voluptate ad '\n",
      "           'ipsum nisi. Lorem proident deserunt Lorem cupidatat dolor nulla '\n",
      "           'qui id aliqua. Et nulla laborum deserunt tempor ad culpa. Ullamco '\n",
      "           'occaecat adipisicing dolore laborum laborum duis aliqua nisi irure '\n",
      "           'ex. Incididunt tempor Lorem quis dolore.\\r\\n',\n",
      "  'address': '604 Just Court, Eastvale, Federated States Of Micronesia, 8644',\n",
      "  'age': 39,\n",
      "  'balance': '$3,681.39',\n",
      "  'company': 'WAZZU',\n",
      "  'email': 'chasitymarsh@wazzu.com',\n",
      "  'eyeColor': 'green',\n",
      "  'favoriteFruit': 'apple',\n",
      "  'friends': [{'id': 0, 'name': 'Kristina Glover'},\n",
      "              {'id': 1, 'name': 'Ora Christian'},\n",
      "              {'id': 2, 'name': 'Jacklyn Joseph'}],\n",
      "  'gender': 'female',\n",
      "  'greeting': 'Hello, Chasity Marsh! You have 9 unread messages.',\n",
      "  'guid': '97962c85-7700-4ffa-a01e-2fcbc147fd81',\n",
      "  'index': 4,\n",
      "  'isActive': False,\n",
      "  'latitude': -31.660978,\n",
      "  'longitude': 37.559095,\n",
      "  'name': 'Chasity Marsh',\n",
      "  'phone': '+1 (976) 425-2362',\n",
      "  'picture': 'http://placehold.it/32x32',\n",
      "  'registered': '2014-07-31T06:03:19 +05:00',\n",
      "  'tags': ['aliquip', 'duis', 'irure', 'amet', 'aliquip', 'dolore', 'esse']},\n",
      " {'_id': '54e23c3eaffbb506aa15ec1c',\n",
      "  'about': 'Qui ad commodo elit voluptate cupidatat exercitation amet ea '\n",
      "           'laborum sunt aliquip nisi irure. Veniam voluptate eiusmod sint '\n",
      "           'aliquip ea. Voluptate voluptate Lorem nulla laborum eiusmod '\n",
      "           'occaecat et nostrud sint in cillum reprehenderit magna nulla. '\n",
      "           'Lorem id fugiat laborum qui mollit amet. Culpa officia ipsum nisi '\n",
      "           'culpa in. Fugiat quis eu cupidatat non culpa in ea velit pariatur '\n",
      "           'non in excepteur.\\r\\n',\n",
      "  'address': '101 Haring Street, Nicut, Louisiana, 1473',\n",
      "  'age': 30,\n",
      "  'balance': '$1,694.42',\n",
      "  'company': 'EARTHWAX',\n",
      "  'email': 'camachocortez@earthwax.com',\n",
      "  'eyeColor': 'brown',\n",
      "  'favoriteFruit': 'apple',\n",
      "  'friends': [{'id': 0, 'name': 'Sexton Tillman'},\n",
      "              {'id': 1, 'name': 'Boone Steele'},\n",
      "              {'id': 2, 'name': 'Elvia Ward'}],\n",
      "  'gender': 'male',\n",
      "  'greeting': 'Hello, Camacho Cortez! You have 19 unread messages.',\n",
      "  'guid': 'fc3e04d1-44c2-449e-891a-d4f8053d14a4',\n",
      "  'index': 5,\n",
      "  'isActive': True,\n",
      "  'latitude': 74.434627,\n",
      "  'longitude': 69.527088,\n",
      "  'name': 'Camacho Cortez',\n",
      "  'phone': '+1 (869) 528-2019',\n",
      "  'picture': 'http://placehold.it/32x32',\n",
      "  'registered': '2014-03-17T12:04:00 +05:00',\n",
      "  'tags': ['et', 'sit', 'in', 'id', 'ullamco', 'elit', 'laborum']},\n",
      " {'_id': '54e23c3e0fd8074c2ca52667',\n",
      "  'about': 'Minim consequat anim ad et tempor et pariatur cillum ut. Ea Lorem '\n",
      "           'consectetur sunt aliquip ea minim minim id dolore incididunt qui '\n",
      "           'magna. Magna velit labore dolore voluptate ut aliquip esse qui est '\n",
      "           'ipsum cupidatat duis enim. Sunt esse eiusmod cupidatat duis quis '\n",
      "           'sunt anim dolore adipisicing enim dolore aliqua mollit. Commodo '\n",
      "           'sit ad eiusmod reprehenderit.\\r\\n',\n",
      "  'address': '569 Oakland Place, Beyerville, Puerto Rico, 2395',\n",
      "  'age': 35,\n",
      "  'balance': '$1,214.10',\n",
      "  'company': 'TERSANKI',\n",
      "  'email': 'averyflynn@tersanki.com',\n",
      "  'eyeColor': 'green',\n",
      "  'favoriteFruit': 'banana',\n",
      "  'friends': [{'id': 0, 'name': 'Ball Henson'},\n",
      "              {'id': 1, 'name': 'Dalton Mccoy'},\n",
      "              {'id': 2, 'name': 'Carolina Sharp'}],\n",
      "  'gender': 'male',\n",
      "  'greeting': 'Hello, Avery Flynn! You have 13 unread messages.',\n",
      "  'guid': 'af8d9a03-fde9-4039-b20c-c4708d4cfc3c',\n",
      "  'index': 6,\n",
      "  'isActive': False,\n",
      "  'latitude': -89.879409,\n",
      "  'longitude': 143.441709,\n",
      "  'name': 'Avery Flynn',\n",
      "  'phone': '+1 (966) 404-2471',\n",
      "  'picture': 'http://placehold.it/32x32',\n",
      "  'registered': '2014-04-13T10:25:03 +05:00',\n",
      "  'tags': ['quis',\n",
      "           'esse',\n",
      "           'Lorem',\n",
      "           'minim',\n",
      "           'nostrud',\n",
      "           'voluptate',\n",
      "           'laborum']},\n",
      " {'_id': '54e23c3eb112d96e4204914d',\n",
      "  'about': 'Minim proident minim consectetur nostrud dolor reprehenderit. Ea '\n",
      "           'est proident non do cillum eu est dolor Lorem id. Tempor enim '\n",
      "           'incididunt consequat voluptate nulla ipsum voluptate id. '\n",
      "           'Incididunt enim laboris nostrud in exercitation est culpa nulla '\n",
      "           'velit.\\r\\n',\n",
      "  'address': '808 Duryea Court, Downsville, Northern Mariana Islands, 2154',\n",
      "  'age': 23,\n",
      "  'balance': '$2,930.31',\n",
      "  'company': 'ORBIXTAR',\n",
      "  'email': 'michaelcash@orbixtar.com',\n",
      "  'eyeColor': 'blue',\n",
      "  'favoriteFruit': 'strawberry',\n",
      "  'friends': [{'id': 0, 'name': 'Rodgers Nolan'},\n",
      "              {'id': 1, 'name': 'Jewel Marks'},\n",
      "              {'id': 2, 'name': 'Sue Mejia'}],\n",
      "  'gender': 'male',\n",
      "  'greeting': 'Hello, Michael Cash! You have 17 unread messages.',\n",
      "  'guid': '95f1c020-f9eb-4a29-b236-e766759d89d0',\n",
      "  'index': 7,\n",
      "  'isActive': False,\n",
      "  'latitude': -86.621367,\n",
      "  'longitude': -4.06197,\n",
      "  'name': 'Michael Cash',\n",
      "  'phone': '+1 (996) 439-3660',\n",
      "  'picture': 'http://placehold.it/32x32',\n",
      "  'registered': '2014-05-24T17:56:54 +05:00',\n",
      "  'tags': ['eu', 'sit', 'dolore', 'culpa', 'Lorem', 'in', 'esse']},\n",
      " {'_id': '54e23c3ef30f14d0e5afddf3',\n",
      "  'about': 'Ullamco ea esse ullamco commodo quis amet ut ad. Sint eiusmod '\n",
      "           'ullamco minim nostrud amet in ex adipisicing velit cillum Lorem '\n",
      "           'enim nostrud. Deserunt esse incididunt eiusmod commodo ullamco id '\n",
      "           'pariatur tempor duis laboris Lorem. Laboris magna Lorem quis '\n",
      "           'laborum ullamco. Dolor minim magna ut occaecat in consequat '\n",
      "           'consequat in commodo pariatur voluptate pariatur dolore. Quis '\n",
      "           'exercitation cillum labore cillum laborum. Dolore est '\n",
      "           'reprehenderit anim reprehenderit consectetur sit quis ea ut '\n",
      "           'veniam.\\r\\n',\n",
      "  'address': '684 Stratford Road, Rosine, District Of Columbia, 7177',\n",
      "  'age': 25,\n",
      "  'balance': '$1,944.15',\n",
      "  'company': 'KIDSTOCK',\n",
      "  'email': 'madeleinebray@kidstock.com',\n",
      "  'eyeColor': 'green',\n",
      "  'favoriteFruit': 'strawberry',\n",
      "  'friends': [{'id': 0, 'name': 'Herrera Doyle'},\n",
      "              {'id': 1, 'name': 'Berger Fisher'},\n",
      "              {'id': 2, 'name': 'Chang Coffey'}],\n",
      "  'gender': 'female',\n",
      "  'greeting': 'Hello, Madeleine Bray! You have 2 unread messages.',\n",
      "  'guid': 'bde2d56f-2488-40d0-a7d2-21019ee8a18b',\n",
      "  'index': 8,\n",
      "  'isActive': False,\n",
      "  'latitude': 45.118798,\n",
      "  'longitude': -7.698707,\n",
      "  'name': 'Madeleine Bray',\n",
      "  'phone': '+1 (820) 541-2969',\n",
      "  'picture': 'http://placehold.it/32x32',\n",
      "  'registered': '2014-08-11T08:54:06 +05:00',\n",
      "  'tags': ['id',\n",
      "           'magna',\n",
      "           'excepteur',\n",
      "           'excepteur',\n",
      "           'excepteur',\n",
      "           'duis',\n",
      "           'excepteur']},\n",
      " {'_id': '54e23c3ebd80e9c26b057fa3',\n",
      "  'about': 'Sint cillum laborum labore duis fugiat voluptate adipisicing. Ad '\n",
      "           'culpa et et ea incididunt nulla excepteur officia. Cillum veniam '\n",
      "           'amet ipsum reprehenderit do eiusmod aliqua aute nisi Lorem '\n",
      "           'consectetur esse in incididunt.\\r\\n',\n",
      "  'address': '964 Clara Street, Snyderville, Oklahoma, 3627',\n",
      "  'age': 37,\n",
      "  'balance': '$2,839.22',\n",
      "  'company': 'INTRAWEAR',\n",
      "  'email': 'corinefrench@intrawear.com',\n",
      "  'eyeColor': 'blue',\n",
      "  'favoriteFruit': 'banana',\n",
      "  'friends': [{'id': 0, 'name': 'Greta Hill'},\n",
      "              {'id': 1, 'name': 'Cline Curry'},\n",
      "              {'id': 2, 'name': 'Branch Sawyer'}],\n",
      "  'gender': 'female',\n",
      "  'greeting': 'Hello, Corine French! You have 18 unread messages.',\n",
      "  'guid': '75991ca5-05ed-499e-bbb5-f057f86d05d7',\n",
      "  'index': 9,\n",
      "  'isActive': True,\n",
      "  'latitude': -37.637422,\n",
      "  'longitude': 154.195523,\n",
      "  'name': 'Corine French',\n",
      "  'phone': '+1 (987) 573-3164',\n",
      "  'picture': 'http://placehold.it/32x32',\n",
      "  'registered': '2014-06-25T20:17:13 +05:00',\n",
      "  'tags': ['laboris',\n",
      "           'in',\n",
      "           'dolore',\n",
      "           'mollit',\n",
      "           'velit',\n",
      "           'laboris',\n",
      "           'excepteur']},\n",
      " {'_id': '54e23c3e6d89c09f5507e7dd',\n",
      "  'about': 'Non id adipisicing deserunt non magna ex adipisicing sint esse '\n",
      "           'sint. Laborum ea nostrud Lorem voluptate quis proident eu nisi '\n",
      "           'exercitation in. Consequat occaecat proident officia anim.\\r\\n',\n",
      "  'address': '558 Charles Place, Tedrow, California, 9832',\n",
      "  'age': 29,\n",
      "  'balance': '$2,467.31',\n",
      "  'company': 'SPLINX',\n",
      "  'email': 'trudycummings@splinx.com',\n",
      "  'eyeColor': 'blue',\n",
      "  'favoriteFruit': 'strawberry',\n",
      "  'friends': [{'id': 0, 'name': 'Amber Gates'},\n",
      "              {'id': 1, 'name': 'Barron Walsh'},\n",
      "              {'id': 2, 'name': 'Nell Bolton'}],\n",
      "  'gender': 'female',\n",
      "  'greeting': 'Hello, Trudy Cummings! You have 2 unread messages.',\n",
      "  'guid': '87cffc18-3acf-40c5-8708-1bb93f1b68de',\n",
      "  'index': 10,\n",
      "  'isActive': True,\n",
      "  'latitude': -36.185131,\n",
      "  'longitude': -37.774906,\n",
      "  'name': 'Trudy Cummings',\n",
      "  'phone': '+1 (925) 403-2797',\n",
      "  'picture': 'http://placehold.it/32x32',\n",
      "  'registered': '2014-03-13T17:54:31 +05:00',\n",
      "  'tags': ['aute', 'occaecat', 'ea', 'pariatur', 'consectetur', 'magna', 'ea']},\n",
      " {'_id': '54e23c3e4192cf53edd67c99',\n",
      "  'about': 'Aliqua sit enim cillum aliquip ad proident excepteur in '\n",
      "           'consectetur eiusmod. Ipsum sint cillum veniam eiusmod aute sunt et '\n",
      "           'do est tempor. Lorem elit dolor dolore incididunt cillum. Enim '\n",
      "           'occaecat minim sunt cillum est velit cillum deserunt tempor '\n",
      "           'eu.\\r\\n',\n",
      "  'address': '830 Willmohr Street, Crenshaw, Missouri, 6032',\n",
      "  'age': 21,\n",
      "  'balance': '$3,304.99',\n",
      "  'company': 'ACCUPRINT',\n",
      "  'email': 'peggymayer@accuprint.com',\n",
      "  'eyeColor': 'brown',\n",
      "  'favoriteFruit': 'strawberry',\n",
      "  'friends': [{'id': 0, 'name': 'Hopkins Mccall'},\n",
      "              {'id': 1, 'name': 'Nielsen Weeks'},\n",
      "              {'id': 2, 'name': 'Dale Knowles'}],\n",
      "  'gender': 'female',\n",
      "  'greeting': 'Hello, Peggy Mayer! You have 13 unread messages.',\n",
      "  'guid': '5a5496f1-a027-4c21-85da-c399234cd9a5',\n",
      "  'index': 11,\n",
      "  'isActive': True,\n",
      "  'latitude': 48.323912,\n",
      "  'longitude': 22.184821,\n",
      "  'name': 'Peggy Mayer',\n",
      "  'phone': '+1 (854) 428-2585',\n",
      "  'picture': 'http://placehold.it/32x32',\n",
      "  'registered': '2014-09-14T07:06:49 +05:00',\n",
      "  'tags': ['commodo', 'esse', 'ad', 'ullamco', 'ea', 'sint', 'ipsum']},\n",
      " {'_id': '54e23c3eedcc65f0ec3a5496',\n",
      "  'about': 'Voluptate exercitation ut anim ex adipisicing ut do officia '\n",
      "           'incididunt fugiat cupidatat aliqua. Cillum ullamco irure dolore '\n",
      "           'est consectetur non consequat. Nulla ullamco eu irure qui dolor '\n",
      "           'magna ipsum id in enim voluptate aute. Officia aliqua dolore ut '\n",
      "           'reprehenderit Lorem cillum. Cillum reprehenderit eu cillum aliqua '\n",
      "           'sint eiusmod cupidatat culpa elit in. Fugiat voluptate '\n",
      "           'reprehenderit amet anim qui nisi velit aliqua proident anim.\\r\\n',\n",
      "  'address': '915 Channel Avenue, Clinton, North Dakota, 6244',\n",
      "  'age': 40,\n",
      "  'balance': '$3,844.42',\n",
      "  'company': 'ZEAM',\n",
      "  'email': 'chanhurley@zeam.com',\n",
      "  'eyeColor': 'brown',\n",
      "  'favoriteFruit': 'apple',\n",
      "  'friends': [{'id': 0, 'name': 'Reese Grant'},\n",
      "              {'id': 1, 'name': 'Jenna Kinney'},\n",
      "              {'id': 2, 'name': 'Rhea May'}],\n",
      "  'gender': 'male',\n",
      "  'greeting': 'Hello, Chan Hurley! You have 7 unread messages.',\n",
      "  'guid': '759a21c4-5f9c-4189-9c50-c9d8a9f31037',\n",
      "  'index': 12,\n",
      "  'isActive': False,\n",
      "  'latitude': 85.901051,\n",
      "  'longitude': -74.986179,\n",
      "  'name': 'Chan Hurley',\n",
      "  'phone': '+1 (917) 475-3705',\n",
      "  'picture': 'http://placehold.it/32x32',\n",
      "  'registered': '2014-03-01T14:51:23 +06:00',\n",
      "  'tags': ['minim', 'veniam', 'sit', 'aute', 'irure', 'non', 'eiusmod']},\n",
      " {'_id': '54e23c3eb813e66c6d33aa82',\n",
      "  'about': 'Enim elit amet officia consectetur do Lorem reprehenderit '\n",
      "           'cupidatat exercitation velit. Ex tempor esse consectetur dolore '\n",
      "           'aute et. Cupidatat duis nulla in incididunt nulla ullamco non '\n",
      "           'magna officia commodo anim. Labore quis ullamco est deserunt '\n",
      "           'excepteur duis nostrud deserunt cillum proident. Non eiusmod '\n",
      "           'consectetur pariatur deserunt irure quis exercitation ex '\n",
      "           'incididunt quis dolore pariatur sunt irure. Eu do fugiat laboris '\n",
      "           'tempor culpa.\\r\\n',\n",
      "  'address': '184 Kingsway Place, Grantville, Michigan, 2421',\n",
      "  'age': 40,\n",
      "  'balance': '$3,594.99',\n",
      "  'company': 'SUREPLEX',\n",
      "  'email': 'diazpena@sureplex.com',\n",
      "  'eyeColor': 'blue',\n",
      "  'favoriteFruit': 'strawberry',\n",
      "  'friends': [{'id': 0, 'name': 'Mcmillan Knox'},\n",
      "              {'id': 1, 'name': 'Flossie Dixon'},\n",
      "              {'id': 2, 'name': 'Sears Carson'}],\n",
      "  'gender': 'male',\n",
      "  'greeting': 'Hello, Diaz Pena! You have 13 unread messages.',\n",
      "  'guid': '6fd14a8e-3158-48eb-a7e1-93fe57b74746',\n",
      "  'index': 13,\n",
      "  'isActive': True,\n",
      "  'latitude': 6.606991,\n",
      "  'longitude': 81.593748,\n",
      "  'name': 'Diaz Pena',\n",
      "  'phone': '+1 (986) 511-3050',\n",
      "  'picture': 'http://placehold.it/32x32',\n",
      "  'registered': '2014-04-19T20:43:12 +05:00',\n",
      "  'tags': ['excepteur',\n",
      "           'elit',\n",
      "           'ullamco',\n",
      "           'excepteur',\n",
      "           'ad',\n",
      "           'quis',\n",
      "           'dolore']},\n",
      " {'_id': '54e23c3e502a2f526b689c3e',\n",
      "  'about': 'Consectetur mollit cupidatat ex consectetur eiusmod ut. Cupidatat '\n",
      "           'anim cupidatat cupidatat minim ipsum et quis amet proident '\n",
      "           'pariatur. Do consectetur fugiat quis nisi non. Ut eu consequat '\n",
      "           'consequat in ullamco eiusmod quis cillum sunt dolore anim. Non '\n",
      "           'irure aliqua aliqua enim elit labore consequat.\\r\\n',\n",
      "  'address': '278 Village Road, Sunnyside, Massachusetts, 7496',\n",
      "  'age': 40,\n",
      "  'balance': '$2,940.24',\n",
      "  'company': 'NETPLODE',\n",
      "  'email': 'heathcastaneda@netplode.com',\n",
      "  'eyeColor': 'brown',\n",
      "  'favoriteFruit': 'strawberry',\n",
      "  'friends': [{'id': 0, 'name': 'Dora Mack'},\n",
      "              {'id': 1, 'name': 'Christensen Camacho'},\n",
      "              {'id': 2, 'name': 'Castro Kelly'}],\n",
      "  'gender': 'male',\n",
      "  'greeting': 'Hello, Heath Castaneda! You have 12 unread messages.',\n",
      "  'guid': '459cc82d-7878-42cb-b9c6-073506380036',\n",
      "  'index': 14,\n",
      "  'isActive': True,\n",
      "  'latitude': 69.928876,\n",
      "  'longitude': 33.649878,\n",
      "  'name': 'Heath Castaneda',\n",
      "  'phone': '+1 (944) 478-3741',\n",
      "  'picture': 'http://placehold.it/32x32',\n",
      "  'registered': '2014-07-30T21:38:43 +05:00',\n",
      "  'tags': ['elit', 'commodo', 'ut', 'ullamco', 'ullamco', 'velit', 'ullamco']},\n",
      " {'_id': '54e23c3e69d22e49c7fe62de',\n",
      "  'about': 'Non in excepteur nostrud consectetur. Qui non consectetur officia '\n",
      "           'incididunt elit laboris exercitation exercitation est minim veniam '\n",
      "           'ullamco dolore. Eu sit aute culpa ex sunt amet. Ut et amet Lorem '\n",
      "           'sunt anim pariatur.\\r\\n',\n",
      "  'address': '557 Ingraham Street, Brambleton, South Dakota, 8482',\n",
      "  'age': 38,\n",
      "  'balance': '$3,062.41',\n",
      "  'company': 'QUALITERN',\n",
      "  'email': 'greerblankenship@qualitern.com',\n",
      "  'eyeColor': 'brown',\n",
      "  'favoriteFruit': 'banana',\n",
      "  'friends': [{'id': 0, 'name': 'Woods Norman'},\n",
      "              {'id': 1, 'name': 'Marilyn Haney'},\n",
      "              {'id': 2, 'name': 'Webster Nielsen'}],\n",
      "  'gender': 'male',\n",
      "  'greeting': 'Hello, Greer Blankenship! You have 7 unread messages.',\n",
      "  'guid': '33d2bbe5-d6f7-4844-88fc-b9f6af63b373',\n",
      "  'index': 15,\n",
      "  'isActive': False,\n",
      "  'latitude': -71.093388,\n",
      "  'longitude': 65.740255,\n",
      "  'name': 'Greer Blankenship',\n",
      "  'phone': '+1 (957) 482-3874',\n",
      "  'picture': 'http://placehold.it/32x32',\n",
      "  'registered': '2014-03-30T21:39:41 +05:00',\n",
      "  'tags': ['enim',\n",
      "           'eiusmod',\n",
      "           'Lorem',\n",
      "           'reprehenderit',\n",
      "           'nisi',\n",
      "           'anim',\n",
      "           'sunt']},\n",
      " {'_id': '54e23c3e42676228c442a669',\n",
      "  'about': 'Est esse irure Lorem ullamco veniam fugiat laborum veniam '\n",
      "           'excepteur. Ad enim pariatur nostrud excepteur et nostrud velit '\n",
      "           'dolore ex enim cillum in aliquip fugiat. Nulla laborum '\n",
      "           'exercitation irure magna elit laborum magna ad excepteur. Cillum '\n",
      "           'pariatur Lorem eiusmod ad dolore eiusmod veniam do minim laborum '\n",
      "           'in dolor. Reprehenderit elit ad id voluptate Lorem Lorem dolor '\n",
      "           'cupidatat excepteur. Proident minim ea aute nulla.\\r\\n',\n",
      "  'address': '490 Durland Place, Craig, Tennessee, 5034',\n",
      "  'age': 32,\n",
      "  'balance': '$3,067.82',\n",
      "  'company': 'INQUALA',\n",
      "  'email': 'coffeyhayes@inquala.com',\n",
      "  'eyeColor': 'green',\n",
      "  'favoriteFruit': 'strawberry',\n",
      "  'friends': [{'id': 0, 'name': 'Suarez Perry'},\n",
      "              {'id': 1, 'name': 'Marlene Sheppard'},\n",
      "              {'id': 2, 'name': 'Cohen Yates'}],\n",
      "  'gender': 'male',\n",
      "  'greeting': 'Hello, Coffey Hayes! You have 19 unread messages.',\n",
      "  'guid': 'e44604f0-c7a8-4b89-bda3-0f4710ebe28a',\n",
      "  'index': 16,\n",
      "  'isActive': False,\n",
      "  'latitude': -30.662644,\n",
      "  'longitude': 59.806684,\n",
      "  'name': 'Coffey Hayes',\n",
      "  'phone': '+1 (880) 451-3490',\n",
      "  'picture': 'http://placehold.it/32x32',\n",
      "  'registered': '2014-04-01T23:04:39 +05:00',\n",
      "  'tags': ['duis', 'est', 'in', 'officia', 'nostrud', 'occaecat', 'mollit']},\n",
      " {'_id': '54e23c3e4ac5969958013235',\n",
      "  'about': 'Dolor occaecat dolore ut tempor. Veniam elit anim duis do '\n",
      "           'pariatur. Qui excepteur nisi eiusmod mollit laboris fugiat commodo '\n",
      "           'ipsum reprehenderit labore cillum. Aliquip laborum commodo nisi '\n",
      "           'cupidatat labore nostrud exercitation adipisicing mollit eu magna '\n",
      "           'proident ex Lorem. Nostrud magna sint sint consequat consectetur '\n",
      "           'et sint.\\r\\n',\n",
      "  'address': '196 Columbus Place, Carbonville, New Jersey, 7513',\n",
      "  'age': 24,\n",
      "  'balance': '$2,646.76',\n",
      "  'company': 'ACCIDENCY',\n",
      "  'email': 'leannehurst@accidency.com',\n",
      "  'eyeColor': 'brown',\n",
      "  'favoriteFruit': 'apple',\n",
      "  'friends': [{'id': 0, 'name': 'Farley Frank'},\n",
      "              {'id': 1, 'name': 'Pruitt Frye'},\n",
      "              {'id': 2, 'name': 'Simpson Cardenas'}],\n",
      "  'gender': 'female',\n",
      "  'greeting': 'Hello, Leanne Hurst! You have 5 unread messages.',\n",
      "  'guid': 'fa7e26df-d239-41e8-9aa9-be5e808b6f89',\n",
      "  'index': 17,\n",
      "  'isActive': True,\n",
      "  'latitude': 16.671695,\n",
      "  'longitude': 139.707959,\n",
      "  'name': 'Leanne Hurst',\n",
      "  'phone': '+1 (820) 420-3317',\n",
      "  'picture': 'http://placehold.it/32x32',\n",
      "  'registered': '2014-11-10T01:25:55 +06:00',\n",
      "  'tags': ['culpa',\n",
      "           'deserunt',\n",
      "           'tempor',\n",
      "           'quis',\n",
      "           'reprehenderit',\n",
      "           'incididunt',\n",
      "           'est']},\n",
      " {'_id': '54e23c3ed945981ba2580614',\n",
      "  'about': 'Veniam eiusmod exercitation culpa mollit reprehenderit ullamco '\n",
      "           'voluptate voluptate irure qui duis anim et. Laborum dolor quis do '\n",
      "           'voluptate. In pariatur dolor id mollit et enim. Qui ex qui in '\n",
      "           'cillum irure enim non reprehenderit irure et excepteur aliquip eu '\n",
      "           'eu.\\r\\n',\n",
      "  'address': '136 Beard Street, Wattsville, New Hampshire, 2803',\n",
      "  'age': 22,\n",
      "  'balance': '$2,227.79',\n",
      "  'company': 'ESCENTA',\n",
      "  'email': 'ewinglarson@escenta.com',\n",
      "  'eyeColor': 'brown',\n",
      "  'favoriteFruit': 'strawberry',\n",
      "  'friends': [{'id': 0, 'name': 'Suzette Huffman'},\n",
      "              {'id': 1, 'name': 'Paige Santiago'},\n",
      "              {'id': 2, 'name': 'Dollie Fernandez'}],\n",
      "  'gender': 'male',\n",
      "  'greeting': 'Hello, Ewing Larson! You have 16 unread messages.',\n",
      "  'guid': 'e608dc5c-fee4-4086-971b-3ebd37bfa137',\n",
      "  'index': 18,\n",
      "  'isActive': True,\n",
      "  'latitude': 15.903555,\n",
      "  'longitude': -159.721203,\n",
      "  'name': 'Ewing Larson',\n",
      "  'phone': '+1 (943) 439-3760',\n",
      "  'picture': 'http://placehold.it/32x32',\n",
      "  'registered': '2014-07-21T19:17:41 +05:00',\n",
      "  'tags': ['Lorem',\n",
      "           'magna',\n",
      "           'dolor',\n",
      "           'aliquip',\n",
      "           'reprehenderit',\n",
      "           'eu',\n",
      "           'voluptate']}]\n"
     ]
    }
   ],
   "source": [
    "import json\n",
    "# save data/table as a variable\n",
    "profiles = json.load(open('profiles.json'))\n",
    "import pprint\n",
    "pprint.pprint(profiles)"
   ]
  },
  {
   "cell_type": "markdown",
   "id": "2b76290b-058f-4c58-990c-9e905aaa5348",
   "metadata": {
    "tags": []
   },
   "source": [
    "> each dictionary in this list is a single profile or user or person"
   ]
  },
  {
   "cell_type": "markdown",
   "id": "7e4d91f5-d20d-45e6-8753-b9e57be5c494",
   "metadata": {},
   "source": [
    "Your code should produce a list of dictionaries. Using this data, write some code that calculates and outputs the following information:\n",
    "\n",
    "- Total number of users\n",
    "- Number of active users\n",
    "- Number of inactive users\n",
    "- Grand total of balances for all users\n",
    "- Average balance per user\n",
    "- User with the lowest balance\n",
    "- User with the highest balance\n",
    "- Most common favorite fruit\n",
    "- Least most common favorite fruit\n",
    "- Total number of unread messages for all users\n",
    "\n"
   ]
  },
  {
   "cell_type": "markdown",
   "id": "bf58a977-63d1-433e-8650-227abfff8177",
   "metadata": {},
   "source": [
    "#### Total number of users"
   ]
  },
  {
   "cell_type": "code",
   "execution_count": 245,
   "id": "67fde34a-35cf-4514-9f9f-f68e6da9c4f9",
   "metadata": {},
   "outputs": [
    {
     "name": "stdout",
     "output_type": "stream",
     "text": [
      "19\n"
     ]
    }
   ],
   "source": [
    "# Total number of users:\n",
    "\n",
    "total_users = len(profiles)\n",
    "print(total_users)"
   ]
  },
  {
   "cell_type": "markdown",
   "id": "afea4b48-4b3a-4bc0-8e29-367cc23ac7fe",
   "metadata": {},
   "source": [
    "#### Total number of active users"
   ]
  },
  {
   "cell_type": "code",
   "execution_count": 22,
   "id": "9ff993ac-fc5d-4bc4-bf57-d6b67c1347b5",
   "metadata": {
    "tags": []
   },
   "outputs": [
    {
     "data": {
      "text/plain": [
       "9"
      ]
     },
     "execution_count": 22,
     "metadata": {},
     "output_type": "execute_result"
    }
   ],
   "source": [
    "# to start for loop:\n",
    "count = 0\n",
    "\n",
    "for user in profiles:\n",
    "    #print(user[\"isActive\"])\n",
    "    if user[\"isActive\"] == True:\n",
    "        count += 1\n",
    "count\n"
   ]
  },
  {
   "cell_type": "code",
   "execution_count": 247,
   "id": "76c3e3c4-4f51-4dfd-8ca3-9db7fd82053e",
   "metadata": {
    "tags": []
   },
   "outputs": [
    {
     "data": {
      "text/plain": [
       "9"
      ]
     },
     "execution_count": 247,
     "metadata": {},
     "output_type": "execute_result"
    }
   ],
   "source": [
    "# Total number of active useres:\n",
    "\n",
    "\n",
    "active_users = []\n",
    "# iterates (what it is executing on) through each user profile in the profiles list\n",
    "for user in profiles:\n",
    "    # checks if the \"isActive\" value equals True. \"isActive\" is the key\n",
    "    if user[\"isActive\"] == True:\n",
    "        #if the condtion is met the user is added to the active user list\n",
    "        active_users.append(user)\n",
    "        #if the condtion is met the user is added to the active user list\n",
    "        \n",
    "\n",
    "#print(active_users)\n",
    "len(active_users)\n"
   ]
  },
  {
   "cell_type": "markdown",
   "id": "c6a618cd-ec0d-4bf6-86e8-86574ed75d7a",
   "metadata": {},
   "source": [
    "#### Total number of inactive useres"
   ]
  },
  {
   "cell_type": "code",
   "execution_count": 248,
   "id": "0c8a4957-01ad-4c16-b243-f986f8a0536f",
   "metadata": {
    "tags": []
   },
   "outputs": [
    {
     "data": {
      "text/plain": [
       "10"
      ]
     },
     "execution_count": 248,
     "metadata": {},
     "output_type": "execute_result"
    }
   ],
   "source": [
    "#the number of inactive users:\n",
    "inactive_users = []\n",
    "#looks at each user profile in the profile list\n",
    "for user in profiles:\n",
    "    #checks if the \"isActive\" value == False\n",
    "    if user[\"isActive\"] == False:\n",
    "        inactive_users.append(user)\n",
    "len(inactive_users)\n"
   ]
  },
  {
   "cell_type": "code",
   "execution_count": 90,
   "id": "e56612cc-b385-45b2-9d88-3c1932a66739",
   "metadata": {
    "tags": []
   },
   "outputs": [
    {
     "name": "stdout",
     "output_type": "stream",
     "text": [
      "10\n"
     ]
    }
   ],
   "source": [
    "#an easier method\n",
    "inactive = total_users - (len(active_users))\n",
    "print(inactive)"
   ]
  },
  {
   "cell_type": "markdown",
   "id": "8abe63c9-b264-444c-84fc-694b3c9cf2cd",
   "metadata": {},
   "source": [
    "#### Make string data into float"
   ]
  },
  {
   "cell_type": "code",
   "execution_count": 26,
   "id": "1bdd3ec7-269d-48ce-8ad1-0bfb7c30f5be",
   "metadata": {
    "tags": []
   },
   "outputs": [],
   "source": [
    "# grand total of balances for all users\n",
    "\n",
    "#first need to remove the commas and $ and then turn the string into a float \n",
    "def remove_commas(number):\n",
    "    #checks if the number is a string\n",
    "    if type(number) == str:\n",
    "        # remove the $ and the spaces \n",
    "        remove = number.replace(\",\",\"\").replace(\"$\",\"\")\n",
    "        # turns the number into a float so it can have decimals\n",
    "        return float(remove)\n",
    "    # if the variable is not a string return false\n",
    "    else:\n",
    "        return False\n"
   ]
  },
  {
   "cell_type": "code",
   "execution_count": 160,
   "id": "d20961cc-1e8e-4ca2-9410-fbefb38cd1d5",
   "metadata": {
    "tags": []
   },
   "outputs": [
    {
     "data": {
      "text/plain": [
       "8700.0"
      ]
     },
     "execution_count": 160,
     "metadata": {},
     "output_type": "execute_result"
    }
   ],
   "source": [
    "remove_commas(\"$8,700\")"
   ]
  },
  {
   "cell_type": "markdown",
   "id": "2cd3a36b-c9af-44db-8222-7d166a22e88e",
   "metadata": {},
   "source": [
    "#### Calcluate the Grand Total"
   ]
  },
  {
   "cell_type": "code",
   "execution_count": 28,
   "id": "581f12c2-761b-4277-966e-fc84685f5be5",
   "metadata": {
    "tags": []
   },
   "outputs": [
    {
     "name": "stdout",
     "output_type": "stream",
     "text": [
      "52667.02\n"
     ]
    }
   ],
   "source": [
    "# Calculate the Grand Total\n",
    "clean_data = [remove_commas(user[\"balance\"]) for user in profiles]\n",
    "#print(no_commas)\n",
    "#len(no_commas) making sure the number of balances = total users\n",
    "grand_total = sum(clean_data)\n",
    "print(round(grand_total,2))"
   ]
  },
  {
   "cell_type": "markdown",
   "id": "c89fbf4f-0935-43a3-b26b-c93f1889c987",
   "metadata": {},
   "source": [
    "#### Average Balance per u"
   ]
  },
  {
   "cell_type": "code",
   "execution_count": 163,
   "id": "dfb26ef8-e5d8-4f45-96ad-5cd2feba9477",
   "metadata": {
    "tags": []
   },
   "outputs": [
    {
     "name": "stdout",
     "output_type": "stream",
     "text": [
      "2771.95\n"
     ]
    }
   ],
   "source": [
    "#Average balance per user using sum\n",
    "\n",
    "average = grand_total/len(profiles)\n",
    "print(round(average,2))"
   ]
  },
  {
   "cell_type": "code",
   "execution_count": 29,
   "id": "ae1deaeb-345e-4065-b84c-e0464d2df909",
   "metadata": {
    "tags": []
   },
   "outputs": [
    {
     "data": {
      "text/plain": [
       "2771.95"
      ]
     },
     "execution_count": 29,
     "metadata": {},
     "output_type": "execute_result"
    }
   ],
   "source": [
    "#average using import statistics\n",
    "from statistics import mean\n",
    "round(mean(clean_data),2)"
   ]
  },
  {
   "cell_type": "markdown",
   "id": "c343adf4-f728-4bfc-9a49-92a6df9bd911",
   "metadata": {},
   "source": [
    "#### User with the lowest balance"
   ]
  },
  {
   "cell_type": "code",
   "execution_count": 30,
   "id": "b6dcc80a-c0fb-4876-8484-88e158c52478",
   "metadata": {
    "tags": []
   },
   "outputs": [
    {
     "name": "stdout",
     "output_type": "stream",
     "text": [
      "[[1214.1, 'Avery Flynn']]\n"
     ]
    }
   ],
   "source": [
    "#User with the lowest balance \n",
    "\n",
    "#need to have a list to append\n",
    "\n",
    "lowest_balance = []\n",
    "for user in profiles:\n",
    "    balance = remove_commas(user[\"balance\"])\n",
    "   # print(balance)\n",
    "    \n",
    "    if balance == min(clean_data):\n",
    "        lowest_balance.append([balance, user['name']])\n",
    "print(lowest_balance)\n",
    "\n",
    "    "
   ]
  },
  {
   "cell_type": "markdown",
   "id": "7f5c2615-4018-41bf-995b-61d7468dcd1b",
   "metadata": {},
   "source": [
    "#### User with the highest balance"
   ]
  },
  {
   "cell_type": "code",
   "execution_count": 34,
   "id": "ee2fb058-18fd-42ff-8688-a7926d534c5f",
   "metadata": {
    "tags": []
   },
   "outputs": [
    {
     "name": "stdout",
     "output_type": "stream",
     "text": [
      "[[3919.64, 'Fay Hammond']]\n"
     ]
    }
   ],
   "source": [
    "#User with the highest balance\n",
    "\n",
    "lowest_balance = []\n",
    "for user in profiles:\n",
    "    balance = remove_commas(user[\"balance\"])\n",
    "   # print(balance)\n",
    "    \n",
    "    if balance == max(clean_data):\n",
    "        lowest_balance.append([balance, user['name']])\n",
    "print(lowest_balance)"
   ]
  },
  {
   "cell_type": "markdown",
   "id": "23fb31eb-d2c5-4afc-9868-3e2c8e127f1f",
   "metadata": {},
   "source": [
    "#### Most Common Favorite Fruit"
   ]
  },
  {
   "cell_type": "code",
   "execution_count": 36,
   "id": "369a4d8e-1e0e-469e-ba59-94a70e2f412b",
   "metadata": {
    "tags": []
   },
   "outputs": [
    {
     "name": "stdout",
     "output_type": "stream",
     "text": [
      "Counter({'strawberry': 9, 'apple': 6, 'banana': 4})\n"
     ]
    }
   ],
   "source": [
    "# most common favorite fruit\n",
    "#counter \n",
    "from collections import Counter\n",
    "\n",
    "#this line creates list of values of favorite fruit from each user\n",
    "favorite_fruits = [user[\"favoriteFruit\"]for user in profiles]\n",
    "#print(favorite_fruits)\n",
    "\n",
    "# this counts the the occurrences of each unique fruit in the list name\n",
    "fruit_count = Counter(favorite_fruits)\n",
    "print(fruit_count)\n"
   ]
  },
  {
   "cell_type": "code",
   "execution_count": 37,
   "id": "0d0e12e9-d599-4b4b-821e-24823bcb847b",
   "metadata": {
    "tags": []
   },
   "outputs": [
    {
     "name": "stdout",
     "output_type": "stream",
     "text": [
      "('strawberry', 9)\n"
     ]
    }
   ],
   "source": [
    "#.most_common returns a list of thee most common elements, [0] is sued to acess the first element\n",
    "most_common = fruit_count.most_common(1)[0]\n",
    "print(most_common)"
   ]
  },
  {
   "cell_type": "code",
   "execution_count": 38,
   "id": "664c300a-b06a-49f8-b400-06fa319a8fea",
   "metadata": {
    "tags": []
   },
   "outputs": [
    {
     "name": "stdout",
     "output_type": "stream",
     "text": [
      "('banana', 4)\n"
     ]
    }
   ],
   "source": [
    "#-1 is the last element in the list \n",
    "least_common = fruit_count.most_common()[-1]\n",
    "print(least_common)"
   ]
  },
  {
   "cell_type": "markdown",
   "id": "207ef462-7cf0-4441-86f5-f463fc51b688",
   "metadata": {},
   "source": [
    "#### Total number of unread messagses for all users"
   ]
  },
  {
   "cell_type": "code",
   "execution_count": 268,
   "id": "9211e53b-e193-4e00-8742-e546071173ec",
   "metadata": {
    "tags": []
   },
   "outputs": [
    {
     "data": {
      "text/plain": [
       "210"
      ]
     },
     "execution_count": 268,
     "metadata": {},
     "output_type": "execute_result"
    }
   ],
   "source": [
    "# total number of unread messages for all users\n",
    "\n",
    "#need to set the starting number to one\n",
    "total_unread = 0\n",
    "#looks at users (must make it plural to look a multiple) in profiles\n",
    "for users in profiles:\n",
    "    # this sets up the entire greeting to be a message\n",
    "    message = users['greeting']\n",
    "    #print(message)\n",
    "    # this spilts up every single word in the list\n",
    "    message_list = message.split(' ')\n",
    "    #print(message_ls)\n",
    "    for word in message_list:\n",
    "        # need to locate if there is a number in the list\n",
    "        if word.isdigit():\n",
    "            # if a number is found it gets added to the starting totatl\n",
    "            total_unread += int(word)\n",
    "total_unread"
   ]
  },
  {
   "cell_type": "markdown",
   "id": "9c43f8dc-eab7-4e49-92c2-e5fca163e95f",
   "metadata": {},
   "source": [
    "##### Bonus Questions:\n",
    "- Find out how many total unique tags there are for all users\n",
    "- Display a user's name and all of their respective friends"
   ]
  },
  {
   "cell_type": "code",
   "execution_count": 23,
   "id": "42ae2a6f-5195-4284-b9e1-2231da89361f",
   "metadata": {
    "tags": []
   },
   "outputs": [
    {
     "name": "stdout",
     "output_type": "stream",
     "text": [
      "['Hebert Estes', 'Allison Wynn', 'Jacobs Floyd', 'Fay Hammond', 'Chasity Marsh', 'Camacho Cortez', 'Avery Flynn', 'Michael Cash', 'Madeleine Bray', 'Corine French', 'Trudy Cummings', 'Peggy Mayer', 'Chan Hurley', 'Diaz Pena', 'Heath Castaneda', 'Greer Blankenship', 'Coffey Hayes', 'Leanne Hurst', 'Ewing Larson']\n"
     ]
    }
   ],
   "source": [
    "# user names:\n",
    "users = []\n",
    "for user in profiles:\n",
    "    if user['name']:\n",
    "        users.append(user['name'])\n",
    "print(users)"
   ]
  },
  {
   "cell_type": "code",
   "execution_count": null,
   "id": "cfa15e73-8b7b-4fd9-95cd-297212774823",
   "metadata": {},
   "outputs": [],
   "source": [
    "# find user friends"
   ]
  }
 ],
 "metadata": {
  "kernelspec": {
   "display_name": "Python 3 (ipykernel)",
   "language": "python",
   "name": "python3"
  },
  "language_info": {
   "codemirror_mode": {
    "name": "ipython",
    "version": 3
   },
   "file_extension": ".py",
   "mimetype": "text/x-python",
   "name": "python",
   "nbconvert_exporter": "python",
   "pygments_lexer": "ipython3",
   "version": "3.11.4"
  }
 },
 "nbformat": 4,
 "nbformat_minor": 5
}
