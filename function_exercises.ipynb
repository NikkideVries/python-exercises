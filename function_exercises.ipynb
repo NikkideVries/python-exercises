{
 "cells": [
  {
   "cell_type": "markdown",
   "id": "b2df0003-8c99-4b0d-bbbd-092a6f695f19",
   "metadata": {},
   "source": [
    "##### Question 1:\n",
    "Define a function named is_two. It should accept one input and return True if the passed input is either the number or the string 2, False otherwise."
   ]
  },
  {
   "cell_type": "code",
   "execution_count": 1,
   "id": "a9837318-1902-4eec-9bf8-6fc9999c2ecc",
   "metadata": {
    "tags": []
   },
   "outputs": [
    {
     "name": "stdout",
     "output_type": "stream",
     "text": [
      "True\n"
     ]
    }
   ],
   "source": [
    "#test if function works:\n",
    "n = 2\n",
    "if n in (2, '2', 2.0):\n",
    "    print(True)\n",
    "else:\n",
    "    print(False)"
   ]
  },
  {
   "cell_type": "code",
   "execution_count": 119,
   "id": "9300dcb1-e32b-48e6-aa59-81bdcb3d0a71",
   "metadata": {
    "tags": []
   },
   "outputs": [
    {
     "data": {
      "text/plain": [
       "False"
      ]
     },
     "execution_count": 119,
     "metadata": {},
     "output_type": "execute_result"
    }
   ],
   "source": [
    "#method 1\n",
    "def is_two(num):\n",
    "    return num == 2 or num == \"2\" or num == 2.0\n",
    "    # is num == 2 is checking for 2 being an int\n",
    "    # is num == '2' is checking for 2 being a string\n",
    "    # is num == 2.0 is checking for 2 being a float\n",
    "is_two('5')"
   ]
  },
  {
   "cell_type": "code",
   "execution_count": 3,
   "id": "5dd7eda5-1383-4ba9-a110-7992105090fc",
   "metadata": {
    "tags": []
   },
   "outputs": [
    {
     "data": {
      "text/plain": [
       "False"
      ]
     },
     "execution_count": 3,
     "metadata": {},
     "output_type": "execute_result"
    }
   ],
   "source": [
    "#method 2\n",
    "def is_two (n):\n",
    "    if n in (2, '2', 2.0):\n",
    "        return True\n",
    "    else:\n",
    "        return False\n",
    "        \n",
    "is_two(3)"
   ]
  },
  {
   "cell_type": "markdown",
   "id": "0042463f-16c1-43e0-8885-72e979447912",
   "metadata": {},
   "source": [
    "##### Question 2:\n",
    "Define a function named is_vowel. It should return True if the passed string is a vowel, False otherwise."
   ]
  },
  {
   "cell_type": "code",
   "execution_count": 10,
   "id": "fcdc8a3d-fb3c-4aef-b9b2-97104fc4fd2d",
   "metadata": {
    "tags": []
   },
   "outputs": [
    {
     "data": {
      "text/plain": [
       "True"
      ]
     },
     "execution_count": 10,
     "metadata": {},
     "output_type": "execute_result"
    }
   ],
   "source": [
    "def is_vowel1(vowel):\n",
    "    vowel = vowel.lower()\n",
    "    # this is making the vowel string all lower\n",
    "    vowels = 'a,e,i,o,u'\n",
    "    return vowel in vowels\n",
    "is_vowel1('A')"
   ]
  },
  {
   "cell_type": "code",
   "execution_count": 8,
   "id": "e7eb0e76-016e-4d5d-a5b1-e663bd9d5086",
   "metadata": {
    "tags": []
   },
   "outputs": [],
   "source": [
    "# class review:\n",
    "def is_vowel2(string):\n",
    "    #check if the arg is string \n",
    "    if type(string) == str:\n",
    "        #if is str, is 1 char and long and a letter\n",
    "        if len(string) == 1 and string.isalpha():\n",
    "            #return bool ans to: lower-letter in vowel list\n",
    "            return string.lower() in list('aeiou')\n",
    "        else: \n",
    "            return False\n",
    "    # return false if input is not a string\n",
    "    else:\n",
    "        return False\n"
   ]
  },
  {
   "cell_type": "code",
   "execution_count": 9,
   "id": "4d934796-6e98-43c8-965d-ca52c7294ce7",
   "metadata": {
    "tags": []
   },
   "outputs": [
    {
     "data": {
      "text/plain": [
       "False"
      ]
     },
     "execution_count": 9,
     "metadata": {},
     "output_type": "execute_result"
    }
   ],
   "source": [
    "is_vowel2('Amanda')"
   ]
  },
  {
   "cell_type": "markdown",
   "id": "abc6ada0-65d7-4cb0-b522-f65cf2278276",
   "metadata": {},
   "source": [
    "##### Question 3.\n",
    "Define a function named is_consonant. It should return True if the passed string is a consonant, False otherwise. Use your is_vowel function to accomplish this."
   ]
  },
  {
   "cell_type": "code",
   "execution_count": 11,
   "id": "4cbe826d-3645-44fc-8d58-55eaa5c60ff6",
   "metadata": {
    "tags": []
   },
   "outputs": [
    {
     "data": {
      "text/plain": [
       "True"
      ]
     },
     "execution_count": 11,
     "metadata": {},
     "output_type": "execute_result"
    }
   ],
   "source": [
    "#method 1\n",
    "def is_consonant1(con):\n",
    "    con = con.lower()\n",
    "    # this is making sure  that the con (consonant) is lower\n",
    "    consonant = \"b\",\"d\",\"f\",\"g\",\"h\",\"j\",\"k\",\"l\",\"m\",\"n\",\"p\",\"q\",\"r\",\"s\",\"t\",\"v\",\"w\",\"x\",\"y\",\"z\"\n",
    "    return con in consonant\n",
    "is_consonant1('w')"
   ]
  },
  {
   "cell_type": "code",
   "execution_count": 12,
   "id": "f1f07280-1bda-47a2-b38b-a45f1197e750",
   "metadata": {
    "tags": []
   },
   "outputs": [
    {
     "data": {
      "text/plain": [
       "True"
      ]
     },
     "execution_count": 12,
     "metadata": {},
     "output_type": "execute_result"
    }
   ],
   "source": [
    "#method 2\n",
    "def is_consonant2(arg):\n",
    "    vowels = [\"a\",\"e\",\"i\",\"o\",\"u\"]\n",
    "    if arg.lower() not in vowels:\n",
    "        # this makes the arg (input) lower and then checks if any elements are in vowels\n",
    "        return True \n",
    "    else:\n",
    "        # if there is a vowel from vowels in the string then it will return false\n",
    "        return False\n",
    "is_consonant2(\"y\")"
   ]
  },
  {
   "cell_type": "code",
   "execution_count": 18,
   "id": "56d79f12-d06f-4f32-b494-d28a2c1a635d",
   "metadata": {
    "tags": []
   },
   "outputs": [],
   "source": [
    "# class review\n",
    "def is_consonant3(somestring):\n",
    "    \"\"\"\n",
    "    This function will:\n",
    "    - initially check the input is a string\n",
    "        - and 1 char long\n",
    "        - and a letter\n",
    "            -if true, returns the opposite return of its_vowel, using the NOT operator\n",
    "    - return False if not a string\n",
    "    \"\"\"\n",
    "    if type(somestring) == str:\n",
    "        if len(somestring) == 1 and somestring.isalpha():\n",
    "            return (not is_vowel(somestring))\n",
    "        else:\n",
    "            return False\n",
    "    else:\n",
    "        return False"
   ]
  },
  {
   "cell_type": "code",
   "execution_count": 19,
   "id": "abcd26fd-5295-459d-8559-cbe184a41e94",
   "metadata": {
    "tags": []
   },
   "outputs": [
    {
     "data": {
      "text/plain": [
       "False"
      ]
     },
     "execution_count": 19,
     "metadata": {},
     "output_type": "execute_result"
    }
   ],
   "source": [
    "is_consonant3(\"nikki\")"
   ]
  },
  {
   "cell_type": "markdown",
   "id": "e1461dd7-7c1a-43bf-9403-bc5fcfd1f00c",
   "metadata": {},
   "source": [
    "##### Question 4:\n",
    "Define a function that accepts a string that is a word. The function should capitalize the first letter of the word if the word starts with a consonant."
   ]
  },
  {
   "cell_type": "code",
   "execution_count": 44,
   "id": "4521365b-4788-46aa-a6b5-aa46a60414a4",
   "metadata": {
    "tags": []
   },
   "outputs": [],
   "source": [
    "#method 1\n",
    "def is_word(word: str):\n",
    "    if word[0].lower not in ('a','e','i','o','u'):\n",
    "        #word[0] checks the first word in the string, then makes it lower, and then checks that it is \n",
    "        # not in the list of vowels\n",
    "        return word.title()\n",
    "        #.title will uppercase the first character in every word. \n",
    "    else:\n",
    "        return word\n",
    "    "
   ]
  },
  {
   "cell_type": "code",
   "execution_count": 45,
   "id": "01c74188-8c6a-426d-b2db-ee6f5f54c043",
   "metadata": {
    "tags": []
   },
   "outputs": [
    {
     "data": {
      "text/plain": [
       "'Hello'"
      ]
     },
     "execution_count": 45,
     "metadata": {},
     "output_type": "execute_result"
    }
   ],
   "source": [
    "is_word('hello')"
   ]
  },
  {
   "cell_type": "code",
   "execution_count": 46,
   "id": "9edbee66-4dc5-430f-b5a5-ab472999d7ec",
   "metadata": {
    "tags": []
   },
   "outputs": [
    {
     "data": {
      "text/plain": [
       "'Ello'"
      ]
     },
     "execution_count": 46,
     "metadata": {},
     "output_type": "execute_result"
    }
   ],
   "source": [
    "is_word('ello')"
   ]
  },
  {
   "cell_type": "code",
   "execution_count": 24,
   "id": "d9ed3175-9830-4a89-bca1-16af9d7a3e76",
   "metadata": {
    "tags": []
   },
   "outputs": [
    {
     "data": {
      "text/plain": [
       "'Hello'"
      ]
     },
     "execution_count": 24,
     "metadata": {},
     "output_type": "execute_result"
    }
   ],
   "source": [
    "#method 2\n",
    "def cap_word(word):\n",
    "    for n in word[0]:\n",
    "        #checks n in the first letter of the word\n",
    "        if is_consonant2(n):\n",
    "            #uses a previous function to check for consonant\n",
    "            return (f\"{word}\".capitalize())\n",
    "            # returns the string and .capitalize will capitalize the first char in a string\n",
    "            # and return all other letters lowercase \n",
    "        else:\n",
    "            return word\n",
    "            #if the word does not meet the is_consonat requirment it will reutrn the word without any change\n",
    "cap_word(\"hello\")"
   ]
  },
  {
   "cell_type": "code",
   "execution_count": 21,
   "id": "3aa16065-6e74-448d-b11a-802e7f85be26",
   "metadata": {
    "tags": []
   },
   "outputs": [],
   "source": [
    "#Class Review:\n",
    "def capitalize_starting_consonant(word):\n",
    "    \"\"\"\n",
    "    This function will initially check if:\n",
    "    - input is a str\n",
    "        - check if 1st char of the input is a consonant\n",
    "            - if True, returns the inputted string w/1st char Capitalized\n",
    "            - False otherwise\n",
    "        - return False if not string\n",
    "        \n",
    "        \"\"\"\n",
    "    if type(word) == str:\n",
    "        if is_consonant3(word[0]):\n",
    "            return word.capitalize()\n",
    "        else:\n",
    "            return f\"{word} doesnt start with a consonant.\"\n",
    "    else:\n",
    "        return f\"{word} isn't a string.\""
   ]
  },
  {
   "cell_type": "code",
   "execution_count": 22,
   "id": "88bd5c87-35cb-4f4f-b821-57b255b84396",
   "metadata": {
    "tags": []
   },
   "outputs": [
    {
     "data": {
      "text/plain": [
       "'Lucy'"
      ]
     },
     "execution_count": 22,
     "metadata": {},
     "output_type": "execute_result"
    }
   ],
   "source": [
    "capitalize_starting_consonant('lucy')"
   ]
  },
  {
   "cell_type": "markdown",
   "id": "a60fd981-c598-49cb-b8b8-22a71acea5b4",
   "metadata": {},
   "source": [
    "##### Question 5:\n",
    "Define a function named calculate_tip. It should accept a tip percentage (a number between 0 and 1) and the bill total, and return the amount to tip."
   ]
  },
  {
   "cell_type": "code",
   "execution_count": 30,
   "id": "be53dd29-c7f0-4dec-a66e-7eaaf6e50220",
   "metadata": {
    "tags": []
   },
   "outputs": [
    {
     "data": {
      "text/plain": [
       "' this is your tip amount: $5.0'"
      ]
     },
     "execution_count": 30,
     "metadata": {},
     "output_type": "execute_result"
    }
   ],
   "source": [
    "def calculate_tip1(tip_percent, bill_total):\n",
    "    #() takes in two parameter: tip , bill\n",
    "        tip_amount = tip_percent * bill_total\n",
    "        # tip equals the percentage times the bill total\n",
    "        return f' this is your tip amount: ${tip_amount}'\n",
    "calculate_tip1(.25,20)"
   ]
  },
  {
   "cell_type": "code",
   "execution_count": 31,
   "id": "b3b819af-428f-4bfd-92cb-ca0daea0246a",
   "metadata": {
    "tags": []
   },
   "outputs": [],
   "source": [
    "#class review:\n",
    "def calculate_tip2(bill, tip_percent = .2 ):\n",
    "    \"\"\"\n",
    "    tip_percent is a float number between 0-1\n",
    "    \"\"\"\n",
    "    return f'{tip_percent * 100}% tip is: ${round(bill * tip_percent)}'"
   ]
  },
  {
   "cell_type": "code",
   "execution_count": 28,
   "id": "c890d68c-9687-45db-881d-cfb13141c6f6",
   "metadata": {
    "tags": []
   },
   "outputs": [
    {
     "data": {
      "text/plain": [
       "'20.0% tip is: $20.0'"
      ]
     },
     "execution_count": 28,
     "metadata": {},
     "output_type": "execute_result"
    }
   ],
   "source": [
    "calculate_tip2(100, .2)"
   ]
  },
  {
   "cell_type": "markdown",
   "id": "15385ebc-b0bc-416e-9201-088de94624af",
   "metadata": {},
   "source": [
    "##### Question 6:\n",
    "Define a function named apply_discount. It should accept a original price, and a discount percentage, and return the price after the discount is applied."
   ]
  },
  {
   "cell_type": "code",
   "execution_count": 32,
   "id": "17e923fc-a7ef-4818-8d7c-f81e4e5a3376",
   "metadata": {
    "tags": []
   },
   "outputs": [
    {
     "data": {
      "text/plain": [
       "9.96"
      ]
     },
     "execution_count": 32,
     "metadata": {},
     "output_type": "execute_result"
    }
   ],
   "source": [
    "def apply_discount1(original_price,discount_price):\n",
    "    # takes in two parameter: price, discount\n",
    "    price = original_price - (discount_price/100)\n",
    "    # to get the discount you need to divide the discount price by 100 to get the price\n",
    "    return price\n",
    "apply_discount1(10,4)"
   ]
  },
  {
   "cell_type": "code",
   "execution_count": 41,
   "id": "6d409575-8442-4477-bd96-f4710eb79571",
   "metadata": {
    "tags": []
   },
   "outputs": [],
   "source": [
    "#class review:\n",
    "def apply_discount2(original_price, discount_prc):\n",
    "    return (1 - discount_prc) * original_price"
   ]
  },
  {
   "cell_type": "code",
   "execution_count": 42,
   "id": "ac1e94eb-736d-45bd-aca5-aa46075a34cb",
   "metadata": {
    "tags": []
   },
   "outputs": [
    {
     "data": {
      "text/plain": [
       "70.0"
      ]
     },
     "execution_count": 42,
     "metadata": {},
     "output_type": "execute_result"
    }
   ],
   "source": [
    "apply_discount2(100,.3)"
   ]
  },
  {
   "cell_type": "markdown",
   "id": "9d430e46-f4a5-49a7-8274-42f1685d33ee",
   "metadata": {},
   "source": [
    "##### Question 7:\n",
    "Define a function named handle_commas. It should accept a string that is a number that contains commas in it as input, and return a number as output."
   ]
  },
  {
   "cell_type": "code",
   "execution_count": 46,
   "id": "0944d83c-a9b2-44e8-b7b8-cb35772d639a",
   "metadata": {
    "tags": []
   },
   "outputs": [
    {
     "data": {
      "text/plain": [
       "1000.0"
      ]
     },
     "execution_count": 46,
     "metadata": {},
     "output_type": "execute_result"
    }
   ],
   "source": [
    "def handle_commas(string_input):\n",
    "    clean = string_input.replace(',','')\n",
    "    # this cleans the string and replaces commas with nothing\n",
    "    return float(clean)\n",
    "handle_commas(\"1,000\")\n",
    "    \n"
   ]
  },
  {
   "cell_type": "code",
   "execution_count": 45,
   "id": "8394d829-4769-464c-b6d4-c9f9a14f5201",
   "metadata": {
    "tags": []
   },
   "outputs": [],
   "source": [
    "#class review:\n",
    "def handle_commas1(fakenum):\n",
    "    \"\"\"\n",
    "    This function will:\n",
    "    - check if input is a string\n",
    "        - removes any commas\n",
    "        - check if the stripped input is a digit\n",
    "            -if True, returns input as an integer\n",
    "            -False otherwise\n",
    "    - if not a string, return false stmt\n",
    "    \"\"\"\n",
    "    if type(fakenum) == str:\n",
    "        stripfakenum = fakenum.replace(',','')\n",
    "        if stripfakenum.isdigit():\n",
    "            return fakenum\n",
    "        else:\n",
    "            return False\n",
    "    else:\n",
    "        return False\n",
    "            \n",
    "        "
   ]
  },
  {
   "cell_type": "markdown",
   "id": "5d6d8c5d-4cba-47b8-a52c-44124985f851",
   "metadata": {},
   "source": [
    "##### Question 8:\n",
    "Define a function named get_letter_grade. It should accept a number and return the letter grade associated with that number (A-F)."
   ]
  },
  {
   "cell_type": "code",
   "execution_count": 44,
   "id": "bb3dd659-d3bd-438b-9fe7-53953904959d",
   "metadata": {
    "tags": []
   },
   "outputs": [
    {
     "data": {
      "text/plain": [
       "'C'"
      ]
     },
     "execution_count": 44,
     "metadata": {},
     "output_type": "execute_result"
    }
   ],
   "source": [
    "def get_letter_grade(num):\n",
    "    if type(num) == int:\n",
    "        if num <= 59: \n",
    "            return (\"F\")\n",
    "        elif 66 >= num >= 60:\n",
    "            return (\"D\")\n",
    "        elif 79 >= num >= 67:\n",
    "            return (\"C\")\n",
    "        elif 87 >= num >= 80:\n",
    "            return (\"B\")\n",
    "        elif 100 >= num >= 88:\n",
    "            return (\"A\")\n",
    "get_letter_grade(69)"
   ]
  },
  {
   "cell_type": "markdown",
   "id": "d076b3c7-005f-4974-82a4-f77e33ede1c5",
   "metadata": {},
   "source": [
    "##### Question 9:\n",
    "Define a function named remove_vowels that accepts a string and returns a string with all the vowels removed."
   ]
  },
  {
   "cell_type": "code",
   "execution_count": 82,
   "id": "af334233-92b8-4767-9719-da21c01e8dbe",
   "metadata": {
    "tags": []
   },
   "outputs": [
    {
     "data": {
      "text/plain": [
       "'hll'"
      ]
     },
     "execution_count": 82,
     "metadata": {},
     "output_type": "execute_result"
    }
   ],
   "source": [
    "def remove_vowels(string):\n",
    "    vowels = 'aeiouAEIOU'#define the string of vowels\n",
    "    for vowel in vowels:\n",
    "        string = string.replace(vowel,'') #seraches for all occurences of vowel and removes them\n",
    "    return string # need to have the return in this position since it is not part of the loop\n",
    "remove_vowels(\"hello\")"
   ]
  },
  {
   "cell_type": "markdown",
   "id": "a49a3f66-f35c-4a69-97f8-ce530d3a0416",
   "metadata": {},
   "source": [
    "##### Question 10:\n",
    "Define a function named normalize_name. It should accept a string and return a valid python identifier, that is:\n",
    "- anything that is not a valid python identifier should be removed\n",
    "- leading and trailing whitespace should be removed\n",
    "- everything should be lowercase\n",
    "- spaces should be replaced with underscores\n",
    "- for example:\n",
    "    - Name will become name\n",
    "    - First Name will become first_name\n",
    "    - % Completed will become completed"
   ]
  },
  {
   "cell_type": "code",
   "execution_count": 49,
   "id": "adb752fd-a449-492d-91ba-331b3dc62060",
   "metadata": {
    "tags": []
   },
   "outputs": [
    {
     "data": {
      "text/plain": [
       "'word'"
      ]
     },
     "execution_count": 49,
     "metadata": {},
     "output_type": "execute_result"
    }
   ],
   "source": [
    "#code explanation:\n",
    "def normalize_name(string):\n",
    "    valid_char = [char for char in string if char.isalnum() or char == '_']\n",
    "    # char for char: for each character ('char') in the string check if it meets these conditions:\n",
    "    # char.isalnum() checks if the current characteris alphanumeric \n",
    "    # char == '_' checks if it is an underscore\n",
    "    valid = ''.join(valid_char) \n",
    "    #''.join: joining elements togther into a string. the '' represent the separator you want to use between \n",
    "    # the characters when you join them. \n",
    "    # In this case, there's nothing between the characters, so they are just smashed together \n",
    "    # without any spaces or other characters in between.\n",
    "    return valid.lower().strip().replace(\" \",\"_\")\n",
    "    #.replace (old,new[,count])\n",
    "normalize_name(\"%word %\")"
   ]
  },
  {
   "cell_type": "code",
   "execution_count": 51,
   "id": "d1f1a681-8d67-4255-b438-1ada7b24d465",
   "metadata": {
    "tags": []
   },
   "outputs": [
    {
     "name": "stdout",
     "output_type": "stream",
     "text": [
      "['n', 'a', 'm', 'e']\n",
      "name\n"
     ]
    },
    {
     "data": {
      "text/plain": [
       "'name'"
      ]
     },
     "execution_count": 51,
     "metadata": {},
     "output_type": "execute_result"
    }
   ],
   "source": [
    "#print\n",
    "def normalize_name(string):\n",
    "    valid_char = [char for char in string if char.isalnum() or char == '_']\n",
    "    print(valid_char)\n",
    "    valid = ''.join(valid_char)\n",
    "    print(valid)\n",
    "    return valid.lower().strip().replace(\" \",\"_\")\n",
    "normalize_name('%name')"
   ]
  },
  {
   "cell_type": "markdown",
   "id": "0c6f417e-2206-48dd-ac18-2f8b67b464fe",
   "metadata": {},
   "source": [
    "##### Question 11:\n",
    "Write a function named cumulative_sum that accepts a list of numbers and returns a list that is the cumulative sum of the numbers in the list.\n",
    "- cumulative_sum([1, 1, 1]) returns [1, 2, 3]\n",
    "- cumulative_sum([1, 2, 3, 4]) returns [1, 3, 6, 10]"
   ]
  },
  {
   "cell_type": "code",
   "execution_count": 117,
   "id": "b2b754fa-1c34-40e5-bc11-77c320ca63d9",
   "metadata": {
    "tags": []
   },
   "outputs": [],
   "source": [
    "def cumulative_sum(numbers):\n",
    "    cu_list = [] # will set the result to be a list\n",
    "    print(cu_list)\n",
    "    start_value = 0 #this is the starting value. (intialize a variable to sore the cumulative sum)\n",
    "    \n",
    "    for num in numbers:\n",
    "        start_value += num #add the current number to the start_value\n",
    "        print(start_value)\n",
    "        cu_list.append(start_value) #append the start_value to the list\n",
    "    return cu_list       "
   ]
  },
  {
   "cell_type": "code",
   "execution_count": 118,
   "id": "66208d7b-8a41-4624-b29c-533a33370a13",
   "metadata": {
    "tags": []
   },
   "outputs": [
    {
     "name": "stdout",
     "output_type": "stream",
     "text": [
      "[]\n",
      "1\n",
      "3\n",
      "6\n",
      "10\n"
     ]
    },
    {
     "data": {
      "text/plain": [
       "[1, 3, 6, 10]"
      ]
     },
     "execution_count": 118,
     "metadata": {},
     "output_type": "execute_result"
    }
   ],
   "source": [
    "numbers = [1,2,3,4]\n",
    "cumulative_sum(numbers)"
   ]
  },
  {
   "cell_type": "markdown",
   "id": "1846544f-242e-4b66-ae1a-ce9906a179a8",
   "metadata": {},
   "source": [
    "##### Bonus Questions: \n",
    "1. Create a function named twelveto24. It should accept a string in the format 10:45am or 4:30pm and return a string that is the representation of the time in a 24-hour format. Bonus write a function that does the opposite."
   ]
  },
  {
   "cell_type": "code",
   "execution_count": null,
   "id": "dd120c6d-3a5e-4749-a60d-dd4d52693edb",
   "metadata": {},
   "outputs": [],
   "source": []
  },
  {
   "cell_type": "markdown",
   "id": "72726701-7387-4420-871d-fba398dd4c78",
   "metadata": {},
   "source": [
    "#####\n",
    "2. Create a function named col_index. It should accept a spreadsheet column name, and return the index number of the column.\n",
    "- col_index('A') returns 1\n",
    "- col_index('B') returns 2\n",
    "- col_index('AA') returns 27"
   ]
  },
  {
   "cell_type": "code",
   "execution_count": null,
   "id": "f87e5ba7-ceb6-43bd-a303-9ff8eb30a6ff",
   "metadata": {},
   "outputs": [],
   "source": [
    "                                            "
   ]
  }
 ],
 "metadata": {
  "kernelspec": {
   "display_name": "Python 3 (ipykernel)",
   "language": "python",
   "name": "python3"
  },
  "language_info": {
   "codemirror_mode": {
    "name": "ipython",
    "version": 3
   },
   "file_extension": ".py",
   "mimetype": "text/x-python",
   "name": "python",
   "nbconvert_exporter": "python",
   "pygments_lexer": "ipython3",
   "version": "3.11.4"
  }
 },
 "nbformat": 4,
 "nbformat_minor": 5
}
