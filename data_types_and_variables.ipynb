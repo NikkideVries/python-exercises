{
 "cells": [
  {
   "cell_type": "markdown",
   "id": "8e528e22-6559-41bf-aaaf-43aa314e7170",
   "metadata": {},
   "source": [
    "##### Question 1"
   ]
  },
  {
   "cell_type": "code",
   "execution_count": 1,
   "id": "2ac06bb6-9934-490d-95a0-66b394c30a10",
   "metadata": {},
   "outputs": [
    {
     "data": {
      "text/plain": [
       "float"
      ]
     },
     "execution_count": 1,
     "metadata": {},
     "output_type": "execute_result"
    }
   ],
   "source": [
    "type(99.9)"
   ]
  },
  {
   "cell_type": "code",
   "execution_count": 2,
   "id": "6e8edd56-1a9d-47fa-9ddd-6655221ae11b",
   "metadata": {},
   "outputs": [
    {
     "data": {
      "text/plain": [
       "str"
      ]
     },
     "execution_count": 2,
     "metadata": {},
     "output_type": "execute_result"
    }
   ],
   "source": [
    "type(\"False\")"
   ]
  },
  {
   "cell_type": "code",
   "execution_count": 3,
   "id": "46bc3cb4-7074-4abf-a0d0-a9a73b1340f9",
   "metadata": {},
   "outputs": [
    {
     "data": {
      "text/plain": [
       "bool"
      ]
     },
     "execution_count": 3,
     "metadata": {},
     "output_type": "execute_result"
    }
   ],
   "source": [
    "type(False)"
   ]
  },
  {
   "cell_type": "code",
   "execution_count": 4,
   "id": "b5011739-eb25-4dd1-8295-fbc205722ebe",
   "metadata": {},
   "outputs": [
    {
     "data": {
      "text/plain": [
       "str"
      ]
     },
     "execution_count": 4,
     "metadata": {},
     "output_type": "execute_result"
    }
   ],
   "source": [
    "type('0')"
   ]
  },
  {
   "cell_type": "code",
   "execution_count": 5,
   "id": "0c4e4948-2f97-40ca-b55c-f28c547d4518",
   "metadata": {},
   "outputs": [
    {
     "data": {
      "text/plain": [
       "int"
      ]
     },
     "execution_count": 5,
     "metadata": {},
     "output_type": "execute_result"
    }
   ],
   "source": [
    "type(0)"
   ]
  },
  {
   "cell_type": "code",
   "execution_count": 6,
   "id": "3891568e-e8f3-4e77-8d40-1b37a4a1b894",
   "metadata": {},
   "outputs": [
    {
     "data": {
      "text/plain": [
       "bool"
      ]
     },
     "execution_count": 6,
     "metadata": {},
     "output_type": "execute_result"
    }
   ],
   "source": [
    "type(True)"
   ]
  },
  {
   "cell_type": "code",
   "execution_count": 7,
   "id": "2884f44c-252d-4020-8134-a127c57e718a",
   "metadata": {},
   "outputs": [
    {
     "data": {
      "text/plain": [
       "str"
      ]
     },
     "execution_count": 7,
     "metadata": {},
     "output_type": "execute_result"
    }
   ],
   "source": [
    "type('True')"
   ]
  },
  {
   "cell_type": "code",
   "execution_count": 8,
   "id": "714db337-1fe2-44eb-8506-2688acbd9941",
   "metadata": {},
   "outputs": [
    {
     "data": {
      "text/plain": [
       "list"
      ]
     },
     "execution_count": 8,
     "metadata": {},
     "output_type": "execute_result"
    }
   ],
   "source": [
    "type([{}])"
   ]
  },
  {
   "cell_type": "code",
   "execution_count": 10,
   "id": "01a4cb48-c18a-4d1d-ba09-ef86975ed1d3",
   "metadata": {},
   "outputs": [
    {
     "data": {
      "text/plain": [
       "dict"
      ]
     },
     "execution_count": 10,
     "metadata": {},
     "output_type": "execute_result"
    }
   ],
   "source": [
    "type({'a':[]})"
   ]
  },
  {
   "cell_type": "markdown",
   "id": "f7e1be76-cf1e-4daf-9cd8-08f801526498",
   "metadata": {},
   "source": [
    "##### Question 2\n",
    "What data type would best represent the following?\n",
    "- a. a term or phrase typed into a search box\n",
    "- b. Whether or not a user is logged in \n",
    "- c. A discount amount to apply to a user's shopping cart\n",
    "- d. Whether or not a coupon code is valid\n",
    "- e. An email address typed into a registration form\n",
    "- f. The price of a product\n",
    "- g. The email addresses collected from a registration form\n",
    "- h. Information about applicants to Codeup's data science program"
   ]
  },
  {
   "cell_type": "markdown",
   "id": "c1cc5ca2-e2a9-41d7-a1c6-e111343b3afa",
   "metadata": {},
   "source": [
    "###### answers\n",
    "- a. string\n",
    "- b. boolean or string (yes/no or true/false)\n",
    "- c. float\n",
    "- d. string or boolean (yes/no or true/false)\n",
    "- e. string\n",
    "- f. float\n",
    "- g. list\n",
    "- h. string"
   ]
  },
  {
   "cell_type": "markdown",
   "id": "53ff2392-a2d5-431c-9fb4-46ff1bbc4f8c",
   "metadata": {},
   "source": [
    "##### Question 3"
   ]
  },
  {
   "cell_type": "code",
   "execution_count": 11,
   "id": "65068cb3-a5ce-4464-9ba3-dc3cd1d74180",
   "metadata": {},
   "outputs": [
    {
     "ename": "TypeError",
     "evalue": "can only concatenate str (not \"int\") to str",
     "output_type": "error",
     "traceback": [
      "\u001b[0;31m---------------------------------------------------------------------------\u001b[0m",
      "\u001b[0;31mTypeError\u001b[0m                                 Traceback (most recent call last)",
      "Cell \u001b[0;32mIn[11], line 1\u001b[0m\n\u001b[0;32m----> 1\u001b[0m \u001b[38;5;124m'\u001b[39m\u001b[38;5;124m1\u001b[39m\u001b[38;5;124m'\u001b[39m \u001b[38;5;241m+\u001b[39m \u001b[38;5;241m2\u001b[39m\n",
      "\u001b[0;31mTypeError\u001b[0m: can only concatenate str (not \"int\") to str"
     ]
    }
   ],
   "source": [
    "'1' + 2\n",
    "# This will not work. It cannot combine int and string."
   ]
  },
  {
   "cell_type": "code",
   "execution_count": 12,
   "id": "3352a68c-dfb5-4aaf-beb3-d2309fe77b5a",
   "metadata": {},
   "outputs": [
    {
     "data": {
      "text/plain": [
       "2"
      ]
     },
     "execution_count": 12,
     "metadata": {},
     "output_type": "execute_result"
    }
   ],
   "source": [
    "6 % 4\n",
    "# This is an absolute function so that it will work."
   ]
  },
  {
   "cell_type": "code",
   "execution_count": 13,
   "id": "804e9723-bc38-439e-b1df-eccd57dbe393",
   "metadata": {},
   "outputs": [
    {
     "data": {
      "text/plain": [
       "int"
      ]
     },
     "execution_count": 13,
     "metadata": {},
     "output_type": "execute_result"
    }
   ],
   "source": [
    "type(6 % 4)\n",
    "# tells what the type of data is"
   ]
  },
  {
   "cell_type": "code",
   "execution_count": 14,
   "id": "b6925cd6-d085-4525-b60b-506555b96d09",
   "metadata": {},
   "outputs": [
    {
     "data": {
      "text/plain": [
       "type"
      ]
     },
     "execution_count": 14,
     "metadata": {},
     "output_type": "execute_result"
    }
   ],
   "source": [
    "type(type(6 % 4))\n",
    "# first pulls the type of the data and then pulls the function"
   ]
  },
  {
   "cell_type": "code",
   "execution_count": 17,
   "id": "c53b4b3d-f1a3-4097-b79a-f2121e21adc2",
   "metadata": {},
   "outputs": [
    {
     "ename": "TypeError",
     "evalue": "can only concatenate str (not \"int\") to str",
     "output_type": "error",
     "traceback": [
      "\u001b[0;31m---------------------------------------------------------------------------\u001b[0m",
      "\u001b[0;31mTypeError\u001b[0m                                 Traceback (most recent call last)",
      "Cell \u001b[0;32mIn[17], line 1\u001b[0m\n\u001b[0;32m----> 1\u001b[0m \u001b[38;5;124m'\u001b[39m\u001b[38;5;124m3 + 4 is \u001b[39m\u001b[38;5;124m'\u001b[39m \u001b[38;5;241m+\u001b[39m \u001b[38;5;241m3\u001b[39m \u001b[38;5;241m+\u001b[39m \u001b[38;5;241m4\u001b[39m\n",
      "\u001b[0;31mTypeError\u001b[0m: can only concatenate str (not \"int\") to str"
     ]
    }
   ],
   "source": [
    "'3 + 4 is ' + 3 + 4\n",
    "# doesn't work since there are string values and int"
   ]
  },
  {
   "cell_type": "code",
   "execution_count": 18,
   "id": "6fb4e55a-d76b-44bf-b3d5-87ab70de4822",
   "metadata": {},
   "outputs": [
    {
     "data": {
      "text/plain": [
       "False"
      ]
     },
     "execution_count": 18,
     "metadata": {},
     "output_type": "execute_result"
    }
   ],
   "source": [
    "0 < 0\n",
    "# Comparaision operator: will come out true or false"
   ]
  },
  {
   "cell_type": "code",
   "execution_count": 19,
   "id": "4369344d-6001-4bf7-81c4-f7dffe1ce571",
   "metadata": {},
   "outputs": [
    {
     "data": {
      "text/plain": [
       "False"
      ]
     },
     "execution_count": 19,
     "metadata": {},
     "output_type": "execute_result"
    }
   ],
   "source": [
    "'False' == False\n",
    "# string does not equal boolean"
   ]
  },
  {
   "cell_type": "code",
   "execution_count": 20,
   "id": "940abe1f-ba81-4097-8085-7f3bd4c3773d",
   "metadata": {},
   "outputs": [
    {
     "data": {
      "text/plain": [
       "False"
      ]
     },
     "execution_count": 20,
     "metadata": {},
     "output_type": "execute_result"
    }
   ],
   "source": [
    "True == 'True'\n",
    "# strong does not equal boolean"
   ]
  },
  {
   "cell_type": "code",
   "execution_count": 21,
   "id": "d67e11c4-4eaa-4a0c-a6a2-03c51080d3df",
   "metadata": {},
   "outputs": [
    {
     "data": {
      "text/plain": [
       "True"
      ]
     },
     "execution_count": 21,
     "metadata": {},
     "output_type": "execute_result"
    }
   ],
   "source": [
    "5 >= -5\n",
    "# comparision operator: 5 is greater than or equal to -5 "
   ]
  },
  {
   "cell_type": "code",
   "execution_count": 22,
   "id": "5291f822-0b95-400d-bfb6-6ce194185ec0",
   "metadata": {},
   "outputs": [
    {
     "data": {
      "text/plain": [
       "True"
      ]
     },
     "execution_count": 22,
     "metadata": {},
     "output_type": "execute_result"
    }
   ],
   "source": [
    "True or \"42\"\n",
    "# true or string. Due to logical operator(or) it will show up as True"
   ]
  },
  {
   "cell_type": "code",
   "execution_count": 23,
   "id": "6164980b-9f85-4527-8965-14dda08db1c5",
   "metadata": {},
   "outputs": [
    {
     "data": {
      "text/plain": [
       "1"
      ]
     },
     "execution_count": 23,
     "metadata": {},
     "output_type": "execute_result"
    }
   ],
   "source": [
    "6 % 5\n",
    "# This will show up as a int"
   ]
  },
  {
   "cell_type": "code",
   "execution_count": 27,
   "id": "c43c2b40-a81b-4025-9da4-c21ecdc376fd",
   "metadata": {},
   "outputs": [
    {
     "data": {
      "text/plain": [
       "False"
      ]
     },
     "execution_count": 27,
     "metadata": {},
     "output_type": "execute_result"
    }
   ],
   "source": [
    "5 < 4 and 1 == 1\n",
    "#False and True: explanation below"
   ]
  },
  {
   "cell_type": "code",
   "execution_count": 26,
   "id": "17ec49a3-a3a2-47b0-a0fa-1b9ba42dcf32",
   "metadata": {},
   "outputs": [
    {
     "data": {
      "text/plain": [
       "False"
      ]
     },
     "execution_count": 26,
     "metadata": {},
     "output_type": "execute_result"
    }
   ],
   "source": [
    "'codeup' == 'codeup' and 'codeup' == 'Codeup'\n",
    "# True and False: if there is an AND: only return true when all parts True"
   ]
  },
  {
   "cell_type": "code",
   "execution_count": 28,
   "id": "c98239f3-481f-4764-8d42-d017805bb3cc",
   "metadata": {},
   "outputs": [
    {
     "ename": "SyntaxError",
     "evalue": "invalid syntax (920739153.py, line 1)",
     "output_type": "error",
     "traceback": [
      "\u001b[0;36m  Cell \u001b[0;32mIn[28], line 1\u001b[0;36m\u001b[0m\n\u001b[0;31m    4 >= 0 and 1 !== '1'\u001b[0m\n\u001b[0m                   ^\u001b[0m\n\u001b[0;31mSyntaxError\u001b[0m\u001b[0;31m:\u001b[0m invalid syntax\n"
     ]
    }
   ],
   "source": [
    "4 >= 0 and 1 !== '1'\n",
    "# invalid syntax: function won't work without != (copied from exercises)"
   ]
  },
  {
   "cell_type": "code",
   "execution_count": 29,
   "id": "c89af334-51d9-46d7-8ea5-a7eadce7938d",
   "metadata": {},
   "outputs": [
    {
     "data": {
      "text/plain": [
       "True"
      ]
     },
     "execution_count": 29,
     "metadata": {},
     "output_type": "execute_result"
    }
   ],
   "source": [
    "6 % 3 == 0\n",
    "#the absolute value of 6 % 3"
   ]
  },
  {
   "cell_type": "code",
   "execution_count": 31,
   "id": "45710878-1872-401b-99ae-0ac43d7e2912",
   "metadata": {},
   "outputs": [
    {
     "data": {
      "text/plain": [
       "True"
      ]
     },
     "execution_count": 31,
     "metadata": {},
     "output_type": "execute_result"
    }
   ],
   "source": [
    "5 % 2 != 0\n",
    "# the remainder is 1 which is not equal to 0 so True"
   ]
  },
  {
   "cell_type": "code",
   "execution_count": 32,
   "id": "55af399b-2f4e-4520-b7a3-4a9acc2eaa1e",
   "metadata": {},
   "outputs": [
    {
     "ename": "TypeError",
     "evalue": "can only concatenate list (not \"int\") to list",
     "output_type": "error",
     "traceback": [
      "\u001b[0;31m---------------------------------------------------------------------------\u001b[0m",
      "\u001b[0;31mTypeError\u001b[0m                                 Traceback (most recent call last)",
      "Cell \u001b[0;32mIn[32], line 1\u001b[0m\n\u001b[0;32m----> 1\u001b[0m [\u001b[38;5;241m1\u001b[39m] \u001b[38;5;241m+\u001b[39m \u001b[38;5;241m2\u001b[39m\n",
      "\u001b[0;31mTypeError\u001b[0m: can only concatenate list (not \"int\") to list"
     ]
    }
   ],
   "source": [
    "[1] + 2\n",
    "# cat combine list with int"
   ]
  },
  {
   "cell_type": "code",
   "execution_count": 33,
   "id": "fbc52c4f-5e7f-4617-b918-5e84846d9253",
   "metadata": {},
   "outputs": [
    {
     "data": {
      "text/plain": [
       "[1, 2]"
      ]
     },
     "execution_count": 33,
     "metadata": {},
     "output_type": "execute_result"
    }
   ],
   "source": [
    "[1] + [2]\n",
    "# both are lists, so they can combine"
   ]
  },
  {
   "cell_type": "code",
   "execution_count": 34,
   "id": "b09d4d08-5957-4bf3-9931-3c31a951e219",
   "metadata": {},
   "outputs": [
    {
     "data": {
      "text/plain": [
       "[1, 1]"
      ]
     },
     "execution_count": 34,
     "metadata": {},
     "output_type": "execute_result"
    }
   ],
   "source": [
    "[1] * 2\n",
    "# list will get outputted twice"
   ]
  },
  {
   "cell_type": "code",
   "execution_count": 35,
   "id": "01895595-ce07-4112-a682-1acaca0bbff1",
   "metadata": {},
   "outputs": [
    {
     "ename": "TypeError",
     "evalue": "can't multiply sequence by non-int of type 'list'",
     "output_type": "error",
     "traceback": [
      "\u001b[0;31m---------------------------------------------------------------------------\u001b[0m",
      "\u001b[0;31mTypeError\u001b[0m                                 Traceback (most recent call last)",
      "Cell \u001b[0;32mIn[35], line 1\u001b[0m\n\u001b[0;32m----> 1\u001b[0m [\u001b[38;5;241m1\u001b[39m] \u001b[38;5;241m*\u001b[39m [\u001b[38;5;241m2\u001b[39m]\n",
      "\u001b[0;31mTypeError\u001b[0m: can't multiply sequence by non-int of type 'list'"
     ]
    }
   ],
   "source": [
    "[1] * [2]\n",
    "# can't multiply list by list"
   ]
  },
  {
   "cell_type": "code",
   "execution_count": 37,
   "id": "83bfb585-a0f3-453f-8b50-7bfa39b5af41",
   "metadata": {},
   "outputs": [
    {
     "data": {
      "text/plain": [
       "True"
      ]
     },
     "execution_count": 37,
     "metadata": {},
     "output_type": "execute_result"
    }
   ],
   "source": [
    "[] + [] == []\n",
    "#blank + blank equals blank"
   ]
  },
  {
   "cell_type": "code",
   "execution_count": 38,
   "id": "68281b75-f9e8-412f-9374-aac477c5c7ab",
   "metadata": {},
   "outputs": [
    {
     "ename": "TypeError",
     "evalue": "unsupported operand type(s) for +: 'dict' and 'dict'",
     "output_type": "error",
     "traceback": [
      "\u001b[0;31m---------------------------------------------------------------------------\u001b[0m",
      "\u001b[0;31mTypeError\u001b[0m                                 Traceback (most recent call last)",
      "Cell \u001b[0;32mIn[38], line 1\u001b[0m\n\u001b[0;32m----> 1\u001b[0m {} \u001b[38;5;241m+\u001b[39m {}\n",
      "\u001b[0;31mTypeError\u001b[0m: unsupported operand type(s) for +: 'dict' and 'dict'"
     ]
    }
   ],
   "source": [
    "{} + {}\n",
    "#dict cant be added to dict"
   ]
  },
  {
   "cell_type": "markdown",
   "id": "5e509b76-5a75-485e-9fc1-2eee1251705e",
   "metadata": {},
   "source": [
    "##### Question 6: You have rented some movies for your kids:\n",
    "- The little Mermaid for 3 days\n",
    "- Brother bear for 5 days\n",
    "- Hercules for 1 day <br>\n",
    "If the daily fee to rent a move is 3 dollars, how much will you have to pay?"
   ]
  },
  {
   "cell_type": "code",
   "execution_count": 39,
   "id": "db5f6204-0c66-4784-aa70-ad40fea78025",
   "metadata": {},
   "outputs": [
    {
     "data": {
      "text/plain": [
       "27"
      ]
     },
     "execution_count": 39,
     "metadata": {},
     "output_type": "execute_result"
    }
   ],
   "source": [
    "the_little_mermaid = 3\n",
    "brother_bear = 5\n",
    "herculues = 1 \n",
    "\n",
    "movie_cost = (the_little_mermaid + brother_bear + herculues) * 3\n",
    "movie_cost\n"
   ]
  },
  {
   "cell_type": "markdown",
   "id": "c8b7b004-d965-4c31-ae81-22cda6ccc4e2",
   "metadata": {},
   "source": [
    "##### Question 5. Suppose you're working as a contractor for three companies:\n",
    "- Google\n",
    "- Amazon\n",
    "- Facebook <br>\n",
    "They pay you the following hourly rates:\n",
    "- Google: 400 dollars\n",
    "- Amazon: 380 dollars\n",
    "- Facebook: 350 dollars <br>\n",
    "This week you worked: 10 hours for Facebook, 6 hours for Google and 4 hours for Amazon.\n",
    "<br>\n",
    "How much will you receive in payment for this week?"
   ]
  },
  {
   "cell_type": "code",
   "execution_count": 40,
   "id": "74138820-31a2-4d30-9edf-6b6369e8124e",
   "metadata": {},
   "outputs": [
    {
     "data": {
      "text/plain": [
       "7420"
      ]
     },
     "execution_count": 40,
     "metadata": {},
     "output_type": "execute_result"
    }
   ],
   "source": [
    "#variables\n",
    "google = 400\n",
    "amazon = 380\n",
    "facebook = 350\n",
    "\n",
    "payment =((google * 6) + (amazon * 4) + (facebook * 10))\n",
    "payment"
   ]
  },
  {
   "cell_type": "markdown",
   "id": "c7576f67-032b-4f08-9dd5-855b1f143c91",
   "metadata": {},
   "source": [
    "##### Question 6. \n",
    "A student can be enrolled to a class only if the class is not full and the class schedule does not conflict with her current schedule."
   ]
  },
  {
   "cell_type": "code",
   "execution_count": 45,
   "id": "9d0b7052-8457-4482-a4b6-a25dd7cb5490",
   "metadata": {},
   "outputs": [
    {
     "name": "stdout",
     "output_type": "stream",
     "text": [
      "A student can enroll in this class\n"
     ]
    }
   ],
   "source": [
    "# variables\n",
    "class_size = 31\n",
    "current_class_size = 27\n",
    "student_conflict = False\n",
    "\n",
    "#statment\n",
    "if current_class_size < class_size and not student_conflict:\n",
    "        enrolment_status = \"A student can enroll in this class\"\n",
    "else:\n",
    "    enrolment_status = \"No student enrollment\"\n",
    "\n",
    "print(enrolment_status)"
   ]
  },
  {
   "cell_type": "markdown",
   "id": "1d07e14b-c482-4321-b2a3-b2847aec4949",
   "metadata": {},
   "source": [
    "##### Question 7. \n",
    "A product offer can be applied only if people buys more than 2 items, and the offer has not expired. Premium members do not need to buy a specific amount of products."
   ]
  },
  {
   "cell_type": "code",
   "execution_count": null,
   "id": "1b6e07ba-9fb6-43b2-9c6b-89b33bf732c4",
   "metadata": {},
   "outputs": [],
   "source": []
  },
  {
   "cell_type": "markdown",
   "id": "d66b0a93-0c95-4a2e-90e4-7d5f48b21c05",
   "metadata": {},
   "source": [
    "##### Question 8.\n"
   ]
  },
  {
   "cell_type": "code",
   "execution_count": null,
   "id": "dd7e62f0-9d6b-4efb-9a9c-71d29dd656d9",
   "metadata": {},
   "outputs": [],
   "source": []
  }
 ],
 "metadata": {
  "kernelspec": {
   "display_name": "Python 3 (ipykernel)",
   "language": "python",
   "name": "python3"
  },
  "language_info": {
   "codemirror_mode": {
    "name": "ipython",
    "version": 3
   },
   "file_extension": ".py",
   "mimetype": "text/x-python",
   "name": "python",
   "nbconvert_exporter": "python",
   "pygments_lexer": "ipython3",
   "version": "3.11.4"
  }
 },
 "nbformat": 4,
 "nbformat_minor": 5
}
